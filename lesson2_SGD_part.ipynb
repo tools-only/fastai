{
  "nbformat": 4,
  "nbformat_minor": 0,
  "metadata": {
    "colab": {
      "name": "lesson2 SGD part.ipynb",
      "version": "0.3.2",
      "provenance": [],
      "include_colab_link": true
    },
    "kernelspec": {
      "name": "python3",
      "display_name": "Python 3"
    }
  },
  "cells": [
    {
      "cell_type": "markdown",
      "metadata": {
        "id": "view-in-github",
        "colab_type": "text"
      },
      "source": [
        "<a href=\"https://colab.research.google.com/github/tools-only/fastai/blob/master/lesson2_SGD_part.ipynb\" target=\"_parent\"><img src=\"https://colab.research.google.com/assets/colab-badge.svg\" alt=\"Open In Colab\"/></a>"
      ]
    },
    {
      "metadata": {
        "id": "QPEMQwhlXDAE",
        "colab_type": "text"
      },
      "cell_type": "markdown",
      "source": [
        "# Lesson 2 SGD part\n"
      ]
    },
    {
      "metadata": {
        "id": "T6AJVOYnW1gM",
        "colab_type": "code",
        "colab": {}
      },
      "cell_type": "code",
      "source": [
        "%matplotlib inline\n",
        "from fastai import *\n",
        "import torch\n",
        "import numpy as np\n",
        "import matplotlib.pyplot as plt"
      ],
      "execution_count": 0,
      "outputs": []
    },
    {
      "metadata": {
        "id": "4RRuJ-9pW_oF",
        "colab_type": "text"
      },
      "cell_type": "markdown",
      "source": [
        "## 线性回归\n",
        "生成数据集(线性)"
      ]
    },
    {
      "metadata": {
        "id": "bBNR6ZjOW9t8",
        "colab_type": "code",
        "colab": {}
      },
      "cell_type": "code",
      "source": [
        "n = 100"
      ],
      "execution_count": 0,
      "outputs": []
    },
    {
      "metadata": {
        "id": "I_0ldCAbZDnF",
        "colab_type": "text"
      },
      "cell_type": "markdown",
      "source": [
        "数据部分：x\n",
        "uniform_函数解释，加了下划线的uniform表示，不返回结果，而是直接替换"
      ]
    },
    {
      "metadata": {
        "id": "SKDnq0n6W-9b",
        "colab_type": "code",
        "colab": {
          "base_uri": "https://localhost:8080/",
          "height": 104
        },
        "outputId": "a259e985-015e-4db9-c702-8bac7f083624"
      },
      "cell_type": "code",
      "source": [
        "x = torch.ones(n, 2)\n",
        "x[:,0].uniform_(-1., 1)\n",
        "x[:5]"
      ],
      "execution_count": 8,
      "outputs": [
        {
          "output_type": "execute_result",
          "data": {
            "text/plain": [
              "tensor([[ 0.2435,  1.0000],\n",
              "        [-0.7886,  1.0000],\n",
              "        [-0.3765,  1.0000],\n",
              "        [-0.4022,  1.0000],\n",
              "        [-0.9076,  1.0000]])"
            ]
          },
          "metadata": {
            "tags": []
          },
          "execution_count": 8
        }
      ]
    },
    {
      "metadata": {
        "id": "_Pzi_UymZFlN",
        "colab_type": "text"
      },
      "cell_type": "markdown",
      "source": [
        "参数部分：a"
      ]
    },
    {
      "metadata": {
        "id": "xv2HLDnDXN67",
        "colab_type": "code",
        "colab": {
          "base_uri": "https://localhost:8080/",
          "height": 35
        },
        "outputId": "b5cead7a-2488-43f8-d278-3e8dfae5d8bd"
      },
      "cell_type": "code",
      "source": [
        "a = torch.tensor([3., 2]);a"
      ],
      "execution_count": 9,
      "outputs": [
        {
          "output_type": "execute_result",
          "data": {
            "text/plain": [
              "tensor([3., 2.])"
            ]
          },
          "metadata": {
            "tags": []
          },
          "execution_count": 9
        }
      ]
    },
    {
      "metadata": {
        "id": "cdL9FtjtZMr1",
        "colab_type": "text"
      },
      "cell_type": "markdown",
      "source": [
        "x@a的@在python中表示矩阵乘"
      ]
    },
    {
      "metadata": {
        "id": "Zrk1WCNEXfIL",
        "colab_type": "code",
        "colab": {}
      },
      "cell_type": "code",
      "source": [
        "y = x @ a + torch.rand(n)"
      ],
      "execution_count": 0,
      "outputs": []
    },
    {
      "metadata": {
        "id": "WzGGhhDhX62r",
        "colab_type": "code",
        "colab": {
          "base_uri": "https://localhost:8080/",
          "height": 283
        },
        "outputId": "c984dd7b-3c31-4de4-eda9-f7f42d7db095"
      },
      "cell_type": "code",
      "source": [
        "plt.scatter(x[:, 0], y)"
      ],
      "execution_count": 11,
      "outputs": [
        {
          "output_type": "execute_result",
          "data": {
            "text/plain": [
              "<matplotlib.collections.PathCollection at 0x7fd427226390>"
            ]
          },
          "metadata": {
            "tags": []
          },
          "execution_count": 11
        },
        {
          "output_type": "display_data",
          "data": {
            "image/png": "[encoded data removed]",
            "text/plain": [
              "<Figure size 432x288 with 1 Axes>"
            ]
          },
          "metadata": {
            "tags": []
          }
        }
      ]
    },
    {
      "metadata": {
        "id": "K8iLWyK_cvhb",
        "colab_type": "text"
      },
      "cell_type": "markdown",
      "source": [
        "构造均方误差函数"
      ]
    },
    {
      "metadata": {
        "id": "njg69jl6X8CL",
        "colab_type": "code",
        "colab": {}
      },
      "cell_type": "code",
      "source": [
        "def mse(y_hat, y):\n",
        "  return ((y_hat - y)**2).mean()"
      ],
      "execution_count": 0,
      "outputs": []
    },
    {
      "metadata": {
        "id": "v70HGXDPdnR5",
        "colab_type": "text"
      },
      "cell_type": "markdown",
      "source": [
        "假设我们认为`a = (-1.0, 1.0)`，则可以计算出对应的损失函数"
      ]
    },
    {
      "metadata": {
        "id": "MPLWVYr8cyYY",
        "colab_type": "code",
        "colab": {}
      },
      "cell_type": "code",
      "source": [
        "a = torch.tensor([-1.0, 1.0])"
      ],
      "execution_count": 0,
      "outputs": []
    },
    {
      "metadata": {
        "id": "E54vUjWSdz5o",
        "colab_type": "code",
        "colab": {
          "base_uri": "https://localhost:8080/",
          "height": 35
        },
        "outputId": "b5f5f33b-eaf9-4905-bca9-f74063c6e14b"
      },
      "cell_type": "code",
      "source": [
        "y_hat = x @ a\n",
        "mse(y_hat, y)"
      ],
      "execution_count": 14,
      "outputs": [
        {
          "output_type": "execute_result",
          "data": {
            "text/plain": [
              "tensor(6.8242)"
            ]
          },
          "metadata": {
            "tags": []
          },
          "execution_count": 14
        }
      ]
    },
    {
      "metadata": {
        "id": "Cz6XTqdseDFI",
        "colab_type": "code",
        "colab": {
          "base_uri": "https://localhost:8080/",
          "height": 283
        },
        "outputId": "d949953f-c84d-4c01-f9a8-74dad08a4f3d"
      },
      "cell_type": "code",
      "source": [
        "plt.scatter(x[:, 0], y)\n",
        "plt.scatter(x[:, 0], y_hat)"
      ],
      "execution_count": 15,
      "outputs": [
        {
          "output_type": "execute_result",
          "data": {
            "text/plain": [
              "<matplotlib.collections.PathCollection at 0x7fd425146898>"
            ]
          },
          "metadata": {
            "tags": []
          },
          "execution_count": 15
        },
        {
          "output_type": "display_data",
          "data": {
            "image/png": "[encoded data removed]",
            "text/plain": [
              "<Figure size 432x288 with 1 Axes>"
            ]
          },
          "metadata": {
            "tags": []
          }
        }
      ]
    },
    {
      "metadata": {
        "id": "jEtVv0BHeztq",
        "colab_type": "text"
      },
      "cell_type": "markdown",
      "source": [
        "## Gradient Descent"
      ]
    },
    {
      "metadata": {
        "id": "zgUevUKZevjX",
        "colab_type": "code",
        "colab": {
          "base_uri": "https://localhost:8080/",
          "height": 52
        },
        "outputId": "2ee7f51f-6e73-4296-a823-c0e82eda8036"
      },
      "cell_type": "code",
      "source": [
        "a = torch.nn.Parameter(a);a"
      ],
      "execution_count": 17,
      "outputs": [
        {
          "output_type": "execute_result",
          "data": {
            "text/plain": [
              "Parameter containing:\n",
              "tensor([-1.,  1.], requires_grad=True)"
            ]
          },
          "metadata": {
            "tags": []
          },
          "execution_count": 17
        }
      ]
    },
    {
      "metadata": {
        "id": "GCy0uQTWfg0m",
        "colab_type": "code",
        "colab": {}
      },
      "cell_type": "code",
      "source": [
        "def update():\n",
        "  y_hat = x @ a\n",
        "  loss = mse(y, y_hat)\n",
        "  if t % 10 == 0:\n",
        "    print(loss)\n",
        "  loss.backward()\n",
        "  with torch.no_grad():\n",
        "    a.sub_(lr * a.grad) # a = a - lr * a.grad\n",
        "    a.grad.zero_()"
      ],
      "execution_count": 0,
      "outputs": []
    },
    {
      "metadata": {
        "id": "WGwhaKJ-f6tH",
        "colab_type": "code",
        "colab": {
          "base_uri": "https://localhost:8080/",
          "height": 190
        },
        "outputId": "ff2853d2-afae-4d4d-eb0e-6c708b0357ce"
      },
      "cell_type": "code",
      "source": [
        "lr = 1e-1\n",
        "for t in range(100):\n",
        "  update()"
      ],
      "execution_count": 19,
      "outputs": [
        {
          "output_type": "stream",
          "text": [
            "tensor(6.8242, grad_fn=<MeanBackward1>)\n",
            "tensor(1.5225, grad_fn=<MeanBackward1>)\n",
            "tensor(0.4659, grad_fn=<MeanBackward1>)\n",
            "tensor(0.1925, grad_fn=<MeanBackward1>)\n",
            "tensor(0.1208, grad_fn=<MeanBackward1>)\n",
            "tensor(0.1020, grad_fn=<MeanBackward1>)\n",
            "tensor(0.0971, grad_fn=<MeanBackward1>)\n",
            "tensor(0.0958, grad_fn=<MeanBackward1>)\n",
            "tensor(0.0955, grad_fn=<MeanBackward1>)\n",
            "tensor(0.0954, grad_fn=<MeanBackward1>)\n"
          ],
          "name": "stdout"
        }
      ]
    },
    {
      "metadata": {
        "id": "WLZeHkhUhiSP",
        "colab_type": "code",
        "colab": {
          "base_uri": "https://localhost:8080/",
          "height": 283
        },
        "outputId": "f42a93d2-550f-4a2f-93a0-bc88516d21ae"
      },
      "cell_type": "code",
      "source": [
        " plt.scatter(x[:, 0], y)\n",
        "plt.scatter(x[:, 0], (x @ a).detach().numpy())"
      ],
      "execution_count": 28,
      "outputs": [
        {
          "output_type": "execute_result",
          "data": {
            "text/plain": [
              "<matplotlib.collections.PathCollection at 0x7fd4244445c0>"
            ]
          },
          "metadata": {
            "tags": []
          },
          "execution_count": 28
        },
        {
          "output_type": "display_data",
          "data": {
            "image/png": "[encoded data removed]",
            "text/plain": [
              "<Figure size 432x288 with 1 Axes>"
            ]
          },
          "metadata": {
            "tags": []
          }
        }
      ]
    },
    {
      "metadata": {
        "id": "V_fl0EdDiZJI",
        "colab_type": "text"
      },
      "cell_type": "markdown",
      "source": [
        "## Animate"
      ]
    },
    {
      "metadata": {
        "id": "E3NMrU6qhokW",
        "colab_type": "code",
        "colab": {}
      },
      "cell_type": "code",
      "source": [
        "from matplotlib import animation, rc\n",
        "rc('animation', html='html5')"
      ],
      "execution_count": 0,
      "outputs": []
    },
    {
      "metadata": {
        "id": "45HzJnqGifeW",
        "colab_type": "code",
        "colab": {}
      },
      "cell_type": "code",
      "source": [
        "! sudo add-apt-repository ppa:mc3man/trusty-media\n",
        "! sudo apt-get update\n",
        "! sudo apt-get install ffmpeg\n",
        "! sudo apt-get install frei0r-plungins"
      ],
      "execution_count": 0,
      "outputs": []
    },
    {
      "metadata": {
        "id": "LfO_ukK-ivgQ",
        "colab_type": "code",
        "colab": {
          "base_uri": "https://localhost:8080/",
          "height": 308
        },
        "outputId": "9da6667a-1013-43a1-ce8a-a2ab41d133b2"
      },
      "cell_type": "code",
      "source": [
        "a = torch.nn.Parameter(torch.tensor([-1., 1]))\n",
        "\n",
        "fig = plt.figure()\n",
        "plt.scatter(x[:, 0], y, c='orange')\n",
        "\n",
        "line, = plt.plot(x[:, 0].detach().numpy(), (x @ a).detach().numpy())\n",
        "plt.close()\n",
        "\n",
        "def animate(i):\n",
        "  update()\n",
        "  line.set_ydata((x @ a).detach().numpy())\n",
        "  return line,\n",
        "\n",
        "animation.FuncAnimation(fig, animate, np.arange(0, 100), interval=20)"
      ],
      "execution_count": 48,
      "outputs": [
        {
          "output_type": "execute_result",
          "data": {
            "text/html": [
              "<video width=\"432\" height=\"288\" controls autoplay loop>\n",
              "  <source type=\"video/mp4\" src=\"data:video/mp4;base64,AAAAHGZ0eXBNNFYgAAACAGlzb21pc28yYXZjMQAAAAhmcmVlAACdbW1kYXQAAAKuBgX//6rcRem9\n",
              "5tlIt5Ys2CDZI+7veDI2NCAtIGNvcmUgMTUyIHIyODU0IGU5YTU5MDMgLSBILjI2NC9NUEVHLTQg\n",
              "QVZDIGNvZGVjIC0gQ29weWxlZnQgMjAwMy0yMDE3IC0gaHR0cDovL3d3dy52aWRlb2xhbi5vcmcv\n",
              "eDI2NC5odG1sIC0gb3B0aW9uczogY2FiYWM9MSByZWY9MyBkZWJsb2NrPTE6MDowIGFuYWx5c2U9\n",
              "MHgzOjB4MTEzIG1lPWhleCBzdWJtZT03IHBzeT0xIHBzeV9yZD0xLjAwOjAuMDAgbWl4ZWRfcmVm\n",
              "PTEgbWVfcmFuZ2U9MTYgY2hyb21hX21lPTEgdHJlbGxpcz0xIDh4OGRjdD0xIGNxbT0wIGRlYWR6\n",
              "b25lPTIxLDExIGZhc3RfcHNraXA9MSBjaHJvbWFfcXBfb2Zmc2V0PS0yIHRocmVhZHM9MyBsb29r\n",
              "YWhlYWRfdGhyZWFkcz0xIHNsaWNlZF90aHJlYWRzPTAgbnI9MCBkZWNpbWF0ZT0xIGludGVybGFj\n",
              "ZWQ9MCBibHVyYXlfY29tcGF0PTAgY29uc3RyYWluZWRfaW50cmE9MCBiZnJhbWVzPTMgYl9weXJh\n",
              "bWlkPTIgYl9hZGFwdD0xIGJfYmlhcz0wIGRpcmVjdD0xIHdlaWdodGI9MSBvcGVuX2dvcD0wIHdl\n",
              "aWdodHA9MiBrZXlpbnQ9MjUwIGtleWludF9taW49MjUgc2NlbmVjdXQ9NDAgaW50cmFfcmVmcmVz\n",
              "aD0wIHJjX2xvb2thaGVhZD00MCByYz1jcmYgbWJ0cmVlPTEgY3JmPTIzLjAgcWNvbXA9MC42MCBx\n",
              "cG1pbj0wIHFwbWF4PTY5IHFwc3RlcD00IGlwX3JhdGlvPTEuNDAgYXE9MToxLjAwAIAAABuvZYiE\n",
              "ACv//vZzfAprRzOVLgV292aj5dCS5fsQYPrQAAADAAGq07IMpSasR30AADqsnhzapaYAPMFk6vZL\n",
              "h4qj2VphOjLL9pLt5AUc9GuFptl1zsvhHXKVRE8WmjGY2Ijtk/MB1hYxmdD/39lH61PY2X4NSQma\n",
              "vHRgn1eSrczy92qe/KZwgb+ZdsioJVehiVwjFetpGigeKzE8eguoQ7s06lssBYYFczX8wM+YJJE8\n",
              "TWGD2pX2cd6K5rOo1eogjP806SoThBx+rxQ6z7q+PI7HXvntZvMLNTfj2wgj5LN4X2Xto0QUIp34\n",
              "ZF96/iMfSCdbKveP1n/EyZz7bwEYTKUoHkr689tgmksJEtVogjbG4nPDZ4HOSfDmGtf4c/DsvFcj\n",
              "Ebla7/PBnBJv3G7jKGytPoOsfIrdGKT5eA5FnM71dN7JS0H02KoDO53PMA7qoocZ2E0l4TS42apa\n",
              "JgEjZ4Xe8po7IiPbv8qt614/d15DrTeY1Fm/G0JQM/Gzur9IKUUPhqyu4C/98mioeSZncHnN+s7Z\n",
              "O5XCRYiFi7yAu/W35f+8P7NfZLptSEfIWpK/Il4vbwfi5hjfU0bZXrtb9wRFnRJ4OT5HMIp1vmei\n",
              "EX1XnigkEAjmK1k4o/EJvEXgjcVV+nsnfcvM/uwfebvVI6Ej0CQoqBuWeK1ErJTo8dEIiyFr8mw7\n",
              "bRf3vTe558q1bPZJhQ7LONuvI2X8jIwNyWlBAuiMfqQPlq6bB0qgsCXGbL8p1DB3N1U4b5SWw3HL\n",
              "dAntLnlTogUhfiNKzR6WNWsevS1CKtLEaCqiV4EZaG42QHiWNLhOMrvPdU9G+11+cawmPgbOp5uR\n",
              "HsgwL8AzS1rmsw2URxLr2+n59vDGH/XYa88ZIpFqPsvrnY5meju/3aDI41u2Fmepie4yZzL3ZdW4\n",
              "7sNVMHIJYfonEo/laXX6skEgAO/FZUgd2ZBxxloZ6aLbciEZtiZU+3fzym2Y3jFZoK08u/95KkaH\n",
              "FF3wLYWRVGcSbbQQFe2KabuaeKT1b0X9RdiW8JwSo/0e5oKpAsaYMLgCW2cpJ5r6rtO9Br8JBe1D\n",
              "Ka5C9aN74abeg+tqHVd3tqwLF+oJ7Kh223SzvtWaVj8INDn1anz5FzY3PUhMgTejN1XEtRCo05Pv\n",
              "t9Em4bwy9z97U3L1Eo0s0UeNMCob+stz8sl4v2f7U00XMVN31k7Ej9Wu0IxWLosgiJQGZw+23fnH\n",
              "7sRSLEqOAaI7jvxWduqgLXG90LGXyQEWxPEJHvqu4StyzKAAzKjeH8NhBwzYbcqlvjLB/JsyWgGw\n",
              "lshLanRhzlyn8csia4/A5IwPBYcM3TnXrvBn3kOn/+V5qDkd0Mc0RldoHbYgiKyUwgfFjYCN4gGG\n",
              "gDFOxQHbuKSevEkQHALpXo/wPn2qFmAa+9+Y9mAPKqylspC0tyVzWZUV+FoPCjz1r8uKOTxKEn1o\n",
              "+gF80d42gTtGX36eSKLjxKLtXQwoGBBh0gRyCOnVu3WUPUvFBWBnUoU99KMjKVrJhl6RzSCI5Gdm\n",
              "W20oM/JyraHa4Kgpr9xpkj+F7hxgSOdJ1SCHdpFuCooDAlQk04uownwup/qLeMEICGKPcagIR0c9\n",
              "sL4T+edri8wm2B1RkrF1PDuOO+3byP/2YidWuZM33haygtiLdIfcTimGDzf5mhdQUOrSM6GIcYMh\n",
              "5n3+4JfzEtlC9ahDCQIpnpmispSk6xR0zqDxF1lKeIJ+rfhhlvzH31sChfu/27f85GYGQX7OiUZ6\n",
              "Ox1UH75gwajn/hzTZyNfr9CsunzBeYwe53ES7sgkRh+9qFcQY5JJ2Rb3uYgREPUoHVKtPeQO2cRc\n",
              "Fm6gCJDa7qInh6imlvF5WGQE5Yp1NiE6AtBsqXN7EJ+qDp3NtH1CWICnNyBNuydXeikFEltjbD0q\n",
              "Dhsi3aaqQHI9S7TbZRIiTB0lg9/a7J3v8p0xojMj1wGKJkfNN3nPbvrILFZD3Ge4dykVURn9s/Sd\n",
              "2BgDqqhglZsCaLpIR2d6JgXFFjY8I8V/SS9YhL22zresg65wdMlISazVznR0t+GXcTzCzGNokEa+\n",
              "AJfvCrgO7m2buo2RS85c0cgxq2b1yZn8e8IdLbc5k5AhsDcpSDwdi70ZT3S4iFNgtkm9j/NKot/V\n",
              "VZXoO/D+tetLyey0bmsN6Jx54xy6JVLK8Z6NvH/g9zr1kzWrfaCLIypiih3/hrjPYFOKwySO0AuJ\n",
              "qNuSm1r0nbfHvBfLPvCgsNJeDzJCEsB4jLO1DF0JaiV/jcrTkgIGpZGxmZVgmlIsBVfJGMDn1uXV\n",
              "CaGzFPWsVXOb3ACBSousrYEm3jorPoHLipnJLo1gx2myUnXyhoLqqocoOsNVzsKKQLAaAyV3fTHQ\n",
              "qD5TKDwRNAcQWgO/rZanLJ47NlVhdBU+cBqASia9zc1JspYcQ8wDXQ+bIt01uDI9N27svsXy4LMB\n",
              "/KM5F4RLLxBSa+SG22Jb+ylcnH+JDudkyyhlSO+3tYKn50rXFzYeUtWREMBaPmOMaRR5EgvjmsFX\n",
              "us78Kt2bOdxlYrdv+FD8OCX0+q2MGcrM0PbI2MFE5P+DEGL/AefanfBCgzcEqF7+7SXCMZTzGXw7\n",
              "w0JqG/AUYn4W09E9ZGuCXRXVB8O8TDZVea/oIN3zg3EZxesT3waGwnOR2T8lNF2S49E3DTqqOy/p\n",
              "6o8LafmhbSVgEVUZykV7U9rnkvxJyEgodI+/NfwhkaefK9gUl3AgwDz8y8YGskT0AWRmg+BW12Bo\n",
              "vgkBuusTpDqos1NNu55YlGfjK3+mcGRRh8hd+SqzKM56FiQmJFDL3xkvLbCf5GoXwbxWNjLvXP9+\n",
              "20FvYLjZUd0fUY5s73h6Sy5qh73qdEqvDKDrVKbR/Xc0sOk5E6a33Aji4nmEMUTgp5Vj32M8sdVh\n",
              "3FU0OTH/gVhK6vWDbYFMdtVdYpz2zOqUiBWsSOMuKcezwtZ3hU3/o0H5TXckEF09pjxG+qL9X8/A\n",
              "4xOBy3vqdiJ3mRMnlwnNigyDsIHgpN0GDgVjKpsDP30gQfYxzNug0PGQhttEMk2tE41wR7u3pHqQ\n",
              "9f07R2GAlIEXNRXoXx++Spent3lIAu4QGj/9dbGcPl+tJbzl4MbCZEhLwt9+0X1sC2jD6vkgImUh\n",
              "QBToyelcOyzBw+In2f1NHiMd0d9tdeD5nrmqR0w8Sx7nD8tjrgCRi8McuA/Gu4JavQMtdzYuEZOj\n",
              "ASA/ekHTUYalnFTY3frUAU9D4KIhduTbqujOtlfOzPBomaBJbRo/zXiBBVz2T4Mb7S3quBNQW97l\n",
              "7cPFWbNnOovj7RVFhi7McNMDNbdvxAO74oER9uSgSwWSXUB1xeIU2klBJNYpcPGWeexWsOiw2f/s\n",
              "YY3mR90EovcJPy/L+gSDQm2Pb0NMvClsaVAqFG+G1ynzQp9Y3tSrAK/X/tUVlRw+A5fUZig2El+Z\n",
              "tj24Su0ocG3dOCRCnytSRtNtSeAWV/XRj5+dJ/z8K30BVujkdjm+f2nOZLscl4uKBX4oLuqoYg5C\n",
              "wOtZQEGrBkAQtbzMEUPHDXk7JCCSy0CPIuAyBqwNMdwuG2LIt4EQHXmP0/k5j7YIB7WlGcxVdCv1\n",
              "+jRjbP10l5ls23on+D+5Bacd/900VPkS85yGIjkhi3zeseOGkXTuIIaq0b+ghLv5Ft4zlVXWDd9K\n",
              "yK4aftetME6BwMWp9ATvfv3ajx0ZTmX9bJZb0IBAuAbsFk3Ux+dq79xjfehDY2PlmNwMqoKrbt7G\n",
              "CuYR9REWPp0097xKkhcewFJsWYGGr2Y4fnHhKs8e/NBSZR1dOMWfjv4rUx2u+SaPF64a7Qwb7AEM\n",
              "xUNzQdGUcVsv3RD6dKu5xMNgu1xzlerZIFop27TQgo/oHc28JbFHX7xt4FHcHOXHir1P6FldHjm9\n",
              "/HsWC//yHo/oN2FEgGzJRacM3sq0GF4igKj7ITBw7Y+gs0tmfy7oqgQrO7ok6YxE+nxlQFqVI1W2\n",
              "GGfQC/nCo2DNLnM0GK91ZLmtya8rf/a0TYxdjLFmPVwO32po0huUMbdiwWtGZnju4oaNLE+lCbgB\n",
              "9OtSKamFdPVPWDHBLivJRpS2CLjSiZkI4fHPcmsDC7sANKF0KnBsHGj0BrD2PZ5ni6ufbGcZ7twv\n",
              "nz0Ea0L8H/ulk+u4IGSq/Nfecb21El8vnkP4yb9RAQE5tMISJd3iy92fm/EVuxCI3T5g3lGaLSJt\n",
              "v5EFBUzG2VsP6q7x+r8npV6DOSsYG2ZoZnvOBwHO8wRXKqzCR/7X5PNgYRg/AaCbyqsGXR+taJTl\n",
              "0OAZFr9HDf2ix3eXf93iCcdUIX72kSRKQq1scYM289sAphqBW6yjyDcuGQOLv+3k2ycNORg9vb9/\n",
              "kJSIiicdMJoF/4hqnqspjipSNz5iadmGl891wz7HvdOoxsViqxJAhwAn3K/V/M6KLdeZ0jIiOUPC\n",
              "kzeOmp5wFH0N+Bo2ucqoMmBp3qw/kHdsV/ptQ8pRiPuH7S8IBlpSFetbGGrl6erV7MX/mDwuNBdQ\n",
              "sPb697a8LjABdgV0t9mxvkv/McbYmaRLIMYfW/6AUFwpu1Olrcjk/DFQQjwZLS8SgTt04H4jymLn\n",
              "cFy+tgFKkJSmOFGDjs1N+kI6VeJQh4ckaISPahuB42O1rwb/6C43eAHkN0gwnoyvneDecAiDfmMl\n",
              "hIEauK6tenzlwBeTAgundcnQkiLW3bqSUOom1YObk2bjwxOSCiTjZQRZVdcogJJ8ZIPHGrCg5B08\n",
              "ftpWQnuNofnwuClX+5pxI5djsoMiKMJZeNHhgQaGkdQWBBBAlRRV1JlXI9Drmfzvkfy2TZKNlXHv\n",
              "4a5EwP7crf05xy0GRN+QghiClUUcp/THeAyeaZHtvigbZ4fHcPe99Ur8o61lia7VVwaGTvggTr/5\n",
              "gqikDHQbjy4WktpxSTKFdTY71ZiwElw1PMHeVzB7sLHDZiEaKpR76yIFGTJoKmFT6sT2xG7YIhQ8\n",
              "f4IVtDs+0c4jXjpqU+t/GoU5koAy7USr3spRSilhWHmnmJdIUA5ncmIWntN54ATf66GHJT7posbH\n",
              "lhS1WNr84iC6JjtMw2TvWSzvqsF44d9lGI6VabRNmAxV3wsjtB0NZgYnk+0NGINl8UKqqPnLVn9E\n",
              "KqxOCPN5sNkp89ZctTIxyHLiCT80XMNxSAC/ZpeV96he6itmkvMuXsDxu87KxZnnDRp22xhAvGMl\n",
              "1voGRQ3ZDWURn96/P03qlqkkFfUBsstS7hllrm8MNy637HmByT7bepzv8Ifujhs3al4xlMVnsGP7\n",
              "fCQMHE8mZIC8Sn1fikoWoFPccF0oJS6BAAvbmJFzQAGnzmbf1QqptXVm6I8Jq/MVXUdCn8yj93SW\n",
              "TqyN9t4vFpodbk1g8yfKnrvpeczigwiqJ8aHtNfBIYUuwIsEaXRGoNlo8PV3Xf/M9slhws73Qe+1\n",
              "ycT3yv3TrySc3eoClkP2R6N46/dx9vF6q2sFwAo2etDYuhnHBSF/t2dbykKaYxfCyp37i4paLtI1\n",
              "G/3R4RO1Ng3M3zCYJ2bPggo5xlUHh020tRlN/b2VyMZ5uE4gGK8/Ngsi6UR8R0XyXPVus8ves+8E\n",
              "JoNcU0UcaZ1qxH/B3n7Hj1FF+60TID8TW4rjncB+c2Lm4bRmcXLlwUKkLQEEvSZDv753ft6CmRul\n",
              "0p4TYUV5wtgksbHDp9DOgKupV3Ba4IeH/26HYtIS6Z/Dkt3+oMVXaV3e7rFEzVCueCmZStJmnJNu\n",
              "1eonYiqHWLZt0cs4hO7FNxLUzlvdVTY/9O5J2PrT8o6rdA5mS4VJ/SR3S1BziFNQjZwfvExnHmsB\n",
              "jWOYLkAzhejLo7QE8qIU6CHIHqYKFJ6NiNSEb9a9eAsn4aqVxxHt025QpfJUIxnyFn6QOIulJPGK\n",
              "ADQKVj9BsIv+ndWPqk4bbtxO+su/x4zpJ/nATKCfV884bqb7JIXy1RZv/+SyBgTUefJ3oJxAvEV5\n",
              "buZiDKyb7O1oGVwrNDN35jcx4BdTfd6Lcq20BofYpRHiNi0RvNdW5kAfIPfVL8dfbEtgZXDtwcih\n",
              "FX3serTsr6a2rT6GDa1oQaLs6SidewqjU8/pnhThKd4iOOIrdcJtv5LZzN5ZT6GRmmantjdV5hf0\n",
              "DnzJ8yl/Aa9c6Cxk2wbxCCx2r3lusrV0rAvrX184GlE+D1BigJqFgQkxkEiAXD6zQ0NaoZCbC2xq\n",
              "3+n1yhHrwKpOSk63oNZdH//h+7bdaqsy3BD4vpfX9jElaE4Q/ZTRZJAlYwjfbCsNySQaHEcNhJ2h\n",
              "DOmFHgQNrMll6I1Zu7feOfunYOyEegxV6FAdJL/b+0WbLsAQcovwgpqsrPH+SI8/Dme/CwVlDVhN\n",
              "ALmNLnHIN+wPx9n3/T8vkcPPpCN0k207yAwES+tNyPC/JouoWK+D9r1sgDiW4ijaXrhw1N16QEw6\n",
              "Zt+fLYMDm1x6gDWHtn1N5CojL6bLBGwgDH0r4WIltkGRs+WMvWn9mgiwnF4yVp10S+VbaT+dOX6/\n",
              "xZ0hGAHcaXGV7hdbsfa2/4aPaKIV6p5U947kFWyM8VJd1jyqtRGax7CKMLQiTSM7K4RZSCjO+FRx\n",
              "9BN2MHnFhbMPurk5RNmON/EdlT3C3pwAjBc9+8777VWg2uhiwO74FRHVfRvwfh8Fr237Jks+1APi\n",
              "bh8o/mUQokAiXzNjUIEub7VAYiisC+JzJB1rJ1d9fxbXTNKUTUC/RBkAZksLCGzMyG4HPgdJJNK1\n",
              "yLp/50OAASMokTVgqyZhZv4RgSsHoB1+IwU1y7RdmryK56NRtEojIJ+TPkneQTuzvRJPvNPMjdJB\n",
              "FBOwBT/6VHBa+7waHrbseI0aFwfsTsSZwanbpK5J4A3YiSahXwjqzQVxgFMTTQz+ba4/o6VeEV8V\n",
              "SrdV8jt7TcsA4PaHz1io4H0eiXtJtLkdMaeKlvjx6MyoGj5VRdhmZeF5CkMNLAO00s/XX1FUn7mP\n",
              "vTooOQwnUBc0Q/zQPB9F2hB7sk6LfjHQzQNuKQ9vraEpwIbEChORQvuIUnAAACpbsCeebL0wBw9V\n",
              "C2iKQbu7RlqCj+YLeTR48vqOnABGI27SK3vfaNCg0PrgfqZHTIukJxhc+vGrQXN24nVOj74ppc8x\n",
              "8SNeA80AeWduUEVVEgTVXC78nJl9sZTZr/Zz7XEedR5qvRPo2ubXYHbU/RWSskyt7sDm+2+usUht\n",
              "XcfUWDurBMcjPlqULXjVn+aT9dg9mEK4IcN+8B/rC2Z1vZkfJ9fTvpCdwA0VBYzp3AIY9IH284CZ\n",
              "PSthZz2t9Mkcue9gkc7DcIUcUzBTcz122OTi1RhCpayAOeS71STq1o+X9sZ8d39MbOAmWWawub7w\n",
              "mZc50c7e7vHXhr73hgCT7nTZgSabOTgW4f/FZnYfGWtQF0OLQT/vYV/kRMilx8+9AEZ6yRe8HdUV\n",
              "/Oa4FxC2Qfq/37QOXqfZtaad2fW0pdnfm9/6tu9nRLBuQ5PyZXGZGLROBCKP01YVzYrMGfe/rjE4\n",
              "vXge6e7z1EInoeFwadqBUtKM2c9MRMyLA3i7JYOVMVBBuNU9PH10loVmiXYVnLDaTkJBlU34IiYG\n",
              "fLpMOz6iIrJNfgSVUnexkvgYxm/b4X4vRtONVdFzSq/vunuTVujA9Mw2/YBfKz9N8HdP+U1O5yZG\n",
              "8R+8NrVccFoDJ7Vd8/WgRX5sPUUodX5u111jsDhnhWGiFLtLOnK0oP4+44rudVw/Tdg93LPvSYmL\n",
              "JFLzXVOAm6xp72qv16fE+bB44tosSlBXlmnEwbCcyDz8hbj/CTI63n4aWMxDsXV5nwiSUmpf+1xA\n",
              "rjZ5Y2OvZUTCp72X0+Vko/A3RdUSTIOwB1KXupUWUIkt2tlcj3A5Vnd/hp8jXKlpT7GbieTYGgFL\n",
              "0ZyZndkqbjiPRJDD4zjvnfqv5HB9o8IJojjGXdHL06L7M54Xsuv+IFhBomoTsD8f/17nflp439ok\n",
              "E6uiWxsWjqA4xlQHLLzlPWXoT0yLI3+1321VTMUdCqJ4LklWir77qZVP8aGhizMak9rSJLiq1JCO\n",
              "uq6iAfKPSoB7SCBeAjp4mZrpkkKWsiYEI3V32VQIUyJHWzo8hJYu1+dWOZ6GlQJtBku/EcNjC5Lk\n",
              "a1jD1xLGaoDRYdWMakXtywyCmNKmRd9HuBVN3/3Z/NPHSej4HlGCBbR3R5esKCWlWC1mgh2PdGq5\n",
              "iGmHec1pLRGW8xrXmGKHDCqireoaWktjKj36OR1k+AgluaPyGZgd3BuvdbrFQRMoq6gySPANw3B+\n",
              "7lwaw2xGPwmWvjNVmrvcZ7/OG0QrPC7UMqKGOKh128JBEbGvGcUmGiYABqoTO9co2pj786acBn7p\n",
              "C3ES9LaLqxl0H3+TL4qhMSb3/NpFRvIIPfWJduOnUmg6GpqyTS/RawmFT/1FH2leJ03cwR6R4K0Q\n",
              "kRMAA0796SQmvVMxZ9RdgOHMi5vLAzLWuidpid4yxXAGLxGFqoqRbbWhQCiLgKdsanrHkNBg8ZwC\n",
              "hBxmubpZNBA9N/ewNk1ww/g7i0PfQTFFN2Mj5LrC0GpaAnd7L302TLSiHLRnxr2+oh8rFr0/8yQd\n",
              "qNgAZTbescNSZGyFOM9DeOVCh6t3ks+W54+Tnyf+H3gAGfUPuLXWN3Bkw4pTqjIUOvFSlq+1iayK\n",
              "IK9bkBco63LyQVGZZcecY4gkAcEbO8/zB4XPjlj6GEFWlhLTJMCN7Ii2a76eSw39FGOGaTnsz0H3\n",
              "6vCs3nhSV6W0gqWZk5zBAyGpJgL+lBv+0L3pVp5udKOkjr09GmLShrGe6o9mCDZMgK0fAG2qrA/y\n",
              "YYMpl9dGK1sk5PUbzpBV3CZlxSsFj3XW7uzWMSh5Oo2gNSLZqz2Ge+FtXKOrZjihEdx488FDB91j\n",
              "i4qV+bRibTxbhBavkx/f1NZuoGn4Uw85845zQsoFhqzT1P72D/RZVsogkRsYk8zQEZtXdPbwRkwp\n",
              "xvephc6kNkUm1MspafWnvUN7BZT667hZwcgRR1PCThofy2tR2BWF+CXMqdeSW/BXcHkJZLWXy3PZ\n",
              "lwFS+PBiPVmMzC6w+iF3sKVRmdUQ4qsRE8Em5D2YOCefXEanBX+/cWp4jb1EiIRtX0BeB9P6S9/V\n",
              "Rg9xueUIF4AvOUbeGn3XeoIsFPhWj42oEWXzw5teFPi0rU/YpQRQfWj+Qk8dvNY/wfsAkSns/Gs0\n",
              "7cU4hRkoAGsnCV0ZPH63PViHAzBebErPQEOucy5y1EvWFlo/R3M/M9HPDwO/8AB//Af4jv2bPOHP\n",
              "TPMNIx4PGsnEHa58WKRC0vdW1SPUPdSuG8RLQ2A+LFQdq5+deYvzfzwTAiKqV5/XD9va0At2JY1D\n",
              "HJsQFQu25vqo2A7RfcZUWHNJ2i+CVrW4/cQhrh/bDW6zWsXpGBf4QmQaSNGU2Q3pa2lDJRKh3/1b\n",
              "MRbNkQYRMVkZanraozOQiTPVAMmzmhW/MqPldhZa8CMX18OYDA7rBWUsFQOUr3FATV8vVFT2636I\n",
              "4W4yuFHBfluTgPl6tgljrQAAAsFBmiJsQr/+OEAUW2JMJeW57UFX21hvUcjzivFNCzjtPQRZGAEW\n",
              "8cc4XaARg0s7gCrWXsAxINgeGN0cWybAIPJ4hcKZDCltnExjRqLn8CVxGBjrdBcDrVeanm5II0pV\n",
              "G3nd5j5oDy8so3kWnIspur8d/ZkVWFjAuPYFbt2d9qI7H+v3Bk4MB6+2cGaf3XVmu1BbZ9xSH1+O\n",
              "0HkxZid+HMdBqEKVbcfK+RO5IrWjfJzVxEAMFZMhSDO5S1WXscWRwIRI8pyX1OjvLlOcA5NP2LgV\n",
              "i3mVyUInfBz4zVN6iYcgXUYaqyVCsYfHUGiowmSFisvAZWeVDKsqNbTFL7as0cyUt1EYqaT5oSYv\n",
              "NiAuYbz/cKduj5x9BvBoDW0Uod8de6+SUxrLzs3fupCr08nhTxjzf58NjXbWjuVMsPgH1AsiHbtx\n",
              "lmaoGaFZ1Nke47iKpkV9bW9FvyiXumzSkbHm8PGAp40KiHzFk91dajP1bTvuUvn0L3OX/Lfje7lJ\n",
              "prF96Nx3E3Pxf7CWOBeCy+IO14YyT6vrKtWV7O9FvfEsySL/69aiCrSNuEKLl9jHxoO88CMgIPV9\n",
              "+aQ/OvA61HAWLnSAvhUSc37AuVgzRMJSOJqHCewblVTESWo7rBHbLtU7hye07+jZJ8zfvsZogrAl\n",
              "F1dlpJWeE7SJYIwfOQO1R9qQPKA9CbvlUCGIAl2vZLOwaNJsOH+ELitpM+BZ/t+MzLkC1ezigCrt\n",
              "ob1RgTJnYG0Op3baIBUk1POb2+VzaHD+nlsPErGi21ftWpCRZyL5m8jczC4O6d3h/AoZxaSxtBMS\n",
              "YJnN1tnLVCKxgs5RpAu3BkVxCRGflrWQgxJ4eeyWiKxRoMUN1AOmgrdDExZWWylyVQ5y9U1w6q1j\n",
              "r935EK8l9bB2DvsADswZPr6TjgWOmYfUozI9YgFinsIrn9/Dn45gFzAAAAEJAZ5BeR//AVBMBi5Z\n",
              "YNc6dj7PjQRuCXsFJNOFg16HBW2HWAC5iMCqah4OoQTtBTabzZokOv3R156MdoI1xOum8Vusq82l\n",
              "qOu4kpDsQPqRgh4WHJ0OM07gBQnmisblU0nvX7ngsdTJWSZ8zWPaYCY9zX1iN1Lh9+FKKkaWIFdk\n",
              "spTsz60fB3l+jwoG5YOaqaxcRBfRmHogDpt6aEuR0x3len+Km9YiQTijbDpDcjqDHdXXD7O/CSEA\n",
              "dI/QJXkLxi34ApeBjNqslLJ0bj0zBSNDSsT7BADGy+17B7Mu132pERn+pwOKdSLuVLjP3K13Cl3x\n",
              "kSOviMstyxkAA3DhNuGjhWq91wTF1ODYgQAAAbJBmkM8IZMphCv//jhAFFYSAQAOIa/D+9Pm72c+\n",
              "lCUNuV6BcGVrs5B53ugWe/oDXYnAvBDHbl1R0382pQz4EaIpqGeRwGbTukZ1NETBdQ2wLRtYoFQ+\n",
              "DFGEHFACJj+UXjoER6dX2JxMg9C65H7uuPFjc+ai4uFNY6tqOfidlYMEmwYRfNfDXuxd13aqTAA3\n",
              "UlLJeoz4pXJEZsG0S5rG7tn5I8k0b85ExD5aNfzAAS+0QRqS+8PAWwRRwQW+CajoTXwkcIAketFF\n",
              "MRGj3tMTQFfkS+X+ji8hSGzGqkdrMzDBn7CivZaBEbMGLrkedDifg4+j27k03A+YrJQn4J4qRcNV\n",
              "dyPsj/a0JWq790ZFQJ3YLx7ckBjHaB7bStIyJlUs3PSo5yoFFVptbbXsV1hFAR8jhvlcBpNaTd/d\n",
              "cMEExyKpJfVRjmxT8/YUxIHPf9nO7LPE5y4SLbMQCsyxJZbRcFnJYXLnbC2tVYe9DrBQM/cMepQO\n",
              "SOap9C0PrEGNffOBZk1quyJAV3JCXC/tnlJdcCfDgSW+vOCxpBHTDUUGL6q/SZtHYcn4jENs2d3D\n",
              "YwmobTz16QAAAcZBmmRJ4Q8mUwIV//44QAD+6b3gM5wLGLKrcKGTu/Yy+bxVNt9SHytL0ghl2uOr\n",
              "kZI9mYAJ87BaT/VcricnPN5D97nsZNUf5jpPsVtnALUpgSGgcwEHF/gaMavZTaYUYiXcbnRWDvxM\n",
              "gVWQWV9JJePKqG025Qo/t87rolEzfiEdKct2KyKKveOjQ5X3daA5sdhWj3+XMpUr3TI3ii0HzOXr\n",
              "pPE9KLytWzIjDhMxxOunp2O4BJ6BgIzE4c6jfdtAJ+jjRDv5roFwQppLgl28HIHW1hLdE8ZgyHjW\n",
              "lWM+Sf2uube4LQX3qkSjdEuGd7mrt1ykCJJIYnpzDR/qvVpAlOHxkoo1vkXQjmKlQjtIQKoGeeaU\n",
              "rF3DldydmxepXmLC59g6wprkjFdcGjmAQ2Lu6iBoS59OGpntefsJzyJPgbhdRkOSZJvcnF4KPkyF\n",
              "NB5WX/OJM26ZKe38chHnzUjYVcsrkNlwtbGgveSS6b8uRWMdvbM989WvZmGUwiu6YIwYKZeWfVsk\n",
              "xvOIFRvE9jzohS+q1J0Iy32uWK7jxsYd46xw5x//GNTzFENviHOjaPvaLkQ355rej+GZA0pvm9J/\n",
              "YzzqoDFYgTWBAAAB2EGahUnhDyZTAhX//jhAAQUPoQiP50T9HbH13VU6nM099fM0KgYSw5MqoaJN\n",
              "fkurT192ZNGfSUCqg6mjND+7B+Kfw+oMaYQ/EdHrQp1a5X2OJTmbBnKbV9gJJz94JqozdlIPcVA5\n",
              "Er8QmP7UFyHnEa94XNb6dKP1JYsCSafbINsshBXeHaaAhTHoLtcj05jKArvYGl8bOQbCZGuPRSe6\n",
              "dd+M8Gu+XIa+CAMSfEFHlB3Tcz33tYA89AwHnLA8JsYar+bkfG56dwjUjjBdtR+o/lPhMCOk3/mY\n",
              "DLuH/aI5vGHANpgjcrAivgrbWOPEB3kRTmHt46X45k0/aL9jJzg2U48OnhW1qZP7nxPO/yil1fFt\n",
              "xGssDyuhdK2JUTwij/JGzjWjtk4kbMiW5cb4hpx1TzcIOg9XN6v8c6TJLs6l6W1GFK4jxOisHce9\n",
              "A/lhIiPuM06FtjJaE5c1BFv3EQVN6iglKkoqerT+oME8Zf8wgJtoGrlWAaceecGEYyKU4t971458\n",
              "D/ETFCf7687wKMJZQI4RnuYQKvLheey1wDDA6iaGwAZVez9blp8PCtYnM19ZQGgfC3qDzbsYy7at\n",
              "8FuUXMyKIX2X9pAVHuK3uY4m1GLWWO4OH5jz1L0AAALaQZqnSeEPJlMFETwr//44QABFuFt4GrjA\n",
              "DjFCp9zVao4bwlmEB0q9P/B5hWkIKfGIWMWzwxL6WdGj7f2cGCzKeuL752mEKcDe3Qupn2mrM8OD\n",
              "JPY7LppJYrMU/3vSfjlMwCZEiu1VUfC5jgtCcDmvCf4LF6aarS+n8nWEh/guvu4ud+OLn5HApCCD\n",
              "B5deTmxPYQTyV/SVKRbuXyAujlScPlH244QNmqeVs7Jk92oxj8tL8MWPrSqP4e0X7rPEbEJXUJjW\n",
              "qZZu5rBdAdmi9LX9UYc4iCiXeiTMoF3t3bzwniCuRU3xH4u+kfrJti0ZbRN2nYtGnRYAkNM0tXNC\n",
              "Uktkr9JmxRgI97OTmOnx003wik7rO+AuSRqbzic+M7Wm+ynvHMr8VLB49p52+fF+i2Wzxk0hw++g\n",
              "1kQP2sSOPH9acYmiFZQ6YaBWH7pH7xJadB09kW3jKphJjpfHYEphFP2NzIQj0V//nGycjuunFYjV\n",
              "yrZ99RI4n1yrQHi02bZbzaR5pwmwtmugqIdSeFhEMQx+aG2hu21TiGPzdZX163o/6GICcJgRrveC\n",
              "wINszofR7iq2Cy0ZKRTeCqeAgNUZHdGIYihyJW51aFs+b95mNiZO6WIsNUpP/6+VQYkWbEbNccX3\n",
              "Eyz8FzDGjsLzNkoeBNYzAd4ZxxXYvpYlKtKEs8z2YDPwSyPujPEsYEJNnfvOY4uAcGvYsv17bbPf\n",
              "dzlpKq2gD58R9n32YFMbeFChMXYodZoOqNeISh4LZlvrKyMJWm3NgG+amKEMRRgHw98r/e9EWxqw\n",
              "8mjn55utigGHBuIDjHMrG0eKsQca44qTq7Wncn/1nm+A9yQU6v0oCt+IdsKaOOZKloKKg7eL67Ke\n",
              "2HMOSxI2VBjKWbTSarvHy7i6UDkd13BSQ24Z4mlFSS7sNb99lgzgs40jP9lbNap/9YNaB4USq4cK\n",
              "XAgB8q3+xISKP6iZGuvirvIuQJarpQAAAO4BnsZqR/8AElultY2xg8ATXtJQy6IIhxiXRc5paelY\n",
              "0IYo3xEiR0POM75CFy39spGBlizlYmcgTz7NtcvtYDo+ZpuDBzAJeUZ+XGdXJivK0tLATidICxTW\n",
              "wAA3xdsfusyjpWb7qzy416ww6irpVpyKhoG5PYofL02w6FzjX0j935TmfkH+1DsouxIKncD1deb1\n",
              "xRJtW0d5kbE2kGppBZ3DICbAke7MBw4ol/Uvw0C81hCg/XgfhohElIIfSaEjnkNJT1t1+WSPdwaF\n",
              "oiRBfJYTk1Ndhaqm1azyDr3qaP9mLIDznxiarEEF8SjtVhsxAAAC0kGayUnhDyZTBTwr//44QAB+\n",
              "7t0nwIrRIEALeF2x7ljerYYbz5EfeD8xIjKAmIJVfLJawBqzo0EA/04Zy5/FYvKMjlDf1PMq3YUa\n",
              "ZRxdvRrbD8lbqebfgYuAlqLiTQ86MOvHytYbRBHN5sFpuKPzSTkpgjzPE2Ok7S7uFOhzzl0M64gK\n",
              "uTu2QzhVp2qfmD1vk9MtTQ0depCDwK5t1Xb0dJEcZwX3TVCJSP2t+K0Z0oj1EvJe51xsTv+JR6Ym\n",
              "tcPrQMFXUv4C1m9UqFLyf1jBnA/rx75eSMujHn3s8WBwfbev5hFy3sUaolju119/uW/QOpH1MRg0\n",
              "JPZy9sn96eKvvg8eGsjlgsgjjeFQimaTQXlzrJq23h//asU4bldoRNYkk4D9H1k7V4NxlqRzfP2v\n",
              "fWUForQqQ/OTFT1oYixm07rjGt/Gz9tp+B61EeY7RvQWwQf5aYyjBF+7wh/i0hokgB8ERMtWqCW6\n",
              "sWQ4/JsvZn4AFVvSuslXxLCCTrerQpZwgUJfGToKlnIdofI20IKABFqL3rgvu893dX/ZIKS8hh12\n",
              "SCJneXtuW+DXMU4Ole4M7+YUsM8jqwb5+PHpn1GkV+Xav7+zkxoF/stdJoZzvZi9AUG/UILUvYIb\n",
              "TgPeZMxx0JWEN6BB4Ubs8o34nVzPXkmtNun5SO0teibYfPJCtbDQhoQj66FzH8oJXKAB2v458kQU\n",
              "RPqfJlOwMOfUddHeBA3hWl4BCjohkSa59aH6GUY39dhPZaujXwPlhc6lRRraPpZV0ydO2IkARXMx\n",
              "HaqMOu3trdfc3aGvP5wA7zAgOQecSUfflvelcCezW4jHtI6I6nV+JyDzdFFX9731MnfxXXuSoU94\n",
              "Tu90z0IMJ9H3abrfLURM9jHP7nsCXU0F2ruqhBsD9NnFNpwG6uyXameRxX437FD7TMxSlbCtx3S7\n",
              "EXZ4/2ypyoR2dCV9LNuiqtNgcKKAAAAAuwGe6GpH/wASYIPD8ppiXvaXv4ke+jdzfXjx8MgHk9on\n",
              "65HO+rMhRoevaQALn8bR4Q1fMQDQ+rjR1lBYc79/EzEW+Q2fNnn4Up6u+wTkI4gQ8MLneHkz3MW+\n",
              "FJtL/bat5s33Uu8lNeKqEGSg8sqKZ8fjAIQdxOmhqpbAWLZBxsjCgLGwUHchmOw4HeHcq+J0H/4A\n",
              "5tKaO9PpkvmqK1GxDW5BaQ+2uMu6xzgsQVTfDj43LLIumej5toJww/wAAAIZQZrqSeEPJlMCFf/+\n",
              "OEAAipiqDIwheHpqoq+qSvuw8QavNOPBDmW8s0BtqRofoAd8KEr04rGmwsTSoBJ1YAIXPhLd8WKx\n",
              "WoIiZmHAysGb9byGP5Y2ioLENvVHTEqmbpxw5vIanyEXOajsAvefJk/eZg+Kk6unsHIndk5tq4cf\n",
              "TteYgr67woqYufcbYWv8EVyBpAuhO5AluW+CR423dFeuLOKxwjHz10H2ZPtn6ykBnnxxjqYqryvf\n",
              "rsT9O8r6juS5NA2YR4MzNvvRAlbIdlo7DdrBqjDQzIhPBmS9186E2Gd50r39Q60O1s5mKph97MuC\n",
              "hYZURWgN4Qq1EitcLAVErcFnJl0+CIRsAvDu04TS8JMMrbOE4x4jgWd3oFD2p17inwxpC0Ybxkaz\n",
              "qEKT4b2mkO0b2PSJuiLlJCKuN4PYdm4tbnznrpdR4Vk0S1In6SehfH6F43NFwbbt2ycoOoYTcOMZ\n",
              "TL9lXSOktyV/WrSJKlTujzNYaTieIZUz/F+UNeKlyErTJNjRErYnqDiqBiP2/pPRdCpKfJ+c1x6a\n",
              "2JnygdL3fjlkB77G398CQ4ILi6bqx2K8ZuhmJT07QReD1fY8aRu1vNq8INcd78xD/TXkP+j6E8zE\n",
              "G03UBOFgO5BLfc79GpUHOwLJTyMkB8/feUhm3iKCJypOnwhQemuuFk/caq/XrzV52949zRQVkiop\n",
              "PAlrwfxnxj8gzRixAAACGUGbC0nhDyZTAhf//oywACQvY0Z515UFawsJAhWo/mktQQhUk4kBrLVb\n",
              "8BIvHGM9c2cw5upoPo5tLmNTfFp3QIFa3aj6gThoJ1PPjogrBD9P2Cyp4opGPonPoCJIzuaTA3xI\n",
              "6QBFe6FLsnDRkw4SBrGS7X1zSl67lCZ8wRUOUcmaXfESPf4Lwn+RClNyq3VaMlZ0HujQB1bss07N\n",
              "/RcLIUbkdlrfLiUE3/3MqkoluqS6GIRGhIJpiwQFIF+S69FrtbuuPMdfngtnxyWCGTNARikvKvh+\n",
              "7ab56MV7DLxSV6tEvCOLVOfVpRXfWzWaE5b7hpREOMz3Z1Izi9W/+ASUVvMsKouQONJPk6E2geAt\n",
              "JGD6D99CF+YEMe5auzg1YKrPDmFRJsa6IkOq84fV0JIFoMs6ug/trMtICTbV8fTKFPZjp57BlmWA\n",
              "WY/7s8f5Q9MwhRjOuV1r7kqfS8yU9uTyHRnTNLw3KnQ356Vu+PxwTJJiNA3jIljREJOudn3aS/kp\n",
              "Bq1nEvcG8wmF5Wt9VTB4CGiimC/vQo7WNrFY5AaWMAZi6pWXbBOWtVPL40ACKlavnDC3oGEmYDnc\n",
              "Ji0o4DxMrG/cjNeHfYhGiAmIAVpu0r6qmbN24EmQpNQJpemu2D6KLdPXQSPfJsf8ZZWMMU/o9P5K\n",
              "PB/9mAsYCcSk3Vqi1n2v8nbkHEcgnj6mvRN0CQ4ZICtGn/8eDVeToAAAArpBmy1J4Q8mUwURPC//\n",
              "/oywAEJiejGZFgAunt3X88V3AVudxN833glC5ix8T8jOD8nAomLOV0d7hw/IffATjgbMIg86qhL/\n",
              "QVDWoZeoKOSaXxJ0Z2zaQ2Pw0ooVIGDWi5fw2oTBhzGrRgozZLl4RIMr9pFdaQ6vwINaCMnH8E7L\n",
              "ZNmTOrR58aMbB0gqGzMt0be1m6pt50By2zbq7ebudilkbcibn327m0kPL4eNMO3J3q+0neR2c+SU\n",
              "Yc2dCwWT/4rsWgZ2HXCsdxTgIHwWwrBLjA8oZQYvXNCaOxujPbLkqhhNrUL+VDDYsdsxPTaAz4jg\n",
              "+yX6T2vMK4m2KzoYGt9+8DHiFtT2renTuz5wsaHedz/GG8+mn9SnLp0ticNWIEmHY5v8FWZa1oqB\n",
              "tC+exepAKAvdbRBpnSZ2MtwuLrMVhEGGmJ6fNAG7GEbdqS1HxgNRm98WlaW6/3kBW2Q2GZlNOSPx\n",
              "JtD/QNZwBJQqNX4L7ze4vjlUOKS2+hXsR18KX80ofLWwbxi3pEkXzaOXClVusc7UUgjbrLc7xinA\n",
              "KJ5SHimcew3wt/VfgZ/778SLa5RJdXk+W2csPd3NgvlCV30pQP3OE52Ejq7lUgmFKTVpXacfa08K\n",
              "xhVmOzDZyFiIjYjVpju6FqwzDsv/ARHF2xgurAldXcbM1dlD3RC1hE9uD4XUOe+ch9e7pIDK6Czl\n",
              "3AEngyE4s64W7ugvy8LEpFI5qpqaGzdM/s5+naTVfFKKiMbHIRzm5eR/3k2BX6uhrwWfBCS+eDfs\n",
              "oS+UkAIVVBPEsqqRzbQbUIOmjtXYA+/F5grVovE4pTcFFoQSFS4vYtYifRx3UXb3Qv6hdUHu8XkX\n",
              "G+9JADueeMF1zZoaXWkygL7+GgExAPH3V7rDQXSfj6ZUDJXmY6PkueSEBBs89fF9Wn1TnN1yU600\n",
              "xwAAAJoBn0xqR/8AIceQFyYseFNayS4Wy9T46EPDOi4QEws8uCFYBeWwpfFC6jGBOJPfW1e/GrDY\n",
              "JQ49nLG1WWSMEhI7LUOFXAA/Sp+3mvPv4zK4XQ3IN7ESC4SSt6nGrMBxa/jsshslx6GkU6v99im8\n",
              "YDmheQioDrHVgcONKbcpHCHZetMDX2d5sBSnuXtTv1SRPLAfLpQhcn70wziBAAACh0GbT0nhDyZT\n",
              "BTwv//6MsABD8o2r6Ifgj8GAC5kdqDAQaHqvs4+b0998Bf6zTeXh5A0VRfP2Ian3Vs9+5BiA6OeP\n",
              "d1HyEshOVs/pAfwMhhOJ10KZqqroEsqUNL5h3UjoZqivfP5gkcm5BZHimcVeOWvtls5oXzdG0Egl\n",
              "wL4jZOfHXEoGdChgA3YeFqSeSfKIhIRUd0udQJFPsBXBmay5TCPLIlJ0o/zzwN1ljerEd1tNJJUs\n",
              "9fLR0tNW3vKTArRRpCS7FVeZm8wGIWoNrmrqHSNplwB+1Pcokbs7nNAR+1uoM24FBvq5573Ys0sO\n",
              "aFUOLO6h1VyIsMA3NRJ6H9NuxHjn8BdRga7R8zJmRvRoLHxF+DGwIvj8MNyVvkggouuTFcSBN3gD\n",
              "Th0LR/hKrPV3vkrYC00Gg/icgSrRNYF0trxHOdTUalVISYeJO/vEFSMQZXdS4tkL4DGvGBio5PgI\n",
              "LsSFL1b1b8fpsXzJwwAcT+sgl99DaQiv9bzD5A9F6PM8osu7PFPGpN7CYXeCzqHRz6CCGHBOU8E1\n",
              "PvztVa32E2ABkkf/2RYhluQ3eXpkBXCUbCExPJ1nMCTefb6FVhI1AG5wR/tnGWSGid8i+Zkbajo3\n",
              "kjYs5ZrQYa2/BhfYPTCOSm+dFw1KA92lp97UXpvSELtYnTZuRWfDns2BXAeikg7E4ov2uPNdRP1t\n",
              "5vmqfDJ5Rm/+IzoNo8RO+1Uid1IeyqB8ByB3h4TYQ0M1py6TGEWIqwQQDFOREzJY4nt+kwBjctuO\n",
              "94tVr7A3pP3TqhmjCbizuryQ2cm5JakmSOFyg01yi+6Eiq9C8TWo5FePuDv1lMJpGlOQP01jhOin\n",
              "zqLYEOp9DO9VUKxBAAAAfwGfbmpH/wAijJb1rC4gmpM07kKXY2tRPwTxHjYGLO5GvmV+Ied1WKyN\n",
              "093qdLllfYAAHqpHaweaXCYOcJLYVWBZKZK+gSlwqNjCI2rk4B5MfLUxxMJprzLX7RP6yjIDIiv8\n",
              "vpZmWdYgLxOhENLQmIAm0tJF/L3LMdCId5lmIYEAAALEQZtxSeEPJlMFPC///oywA1DqggJIOCKM\n",
              "cMotmEDXkirjn6/IHHPyiMB6tlzhkJOKU+qE0LBmIRUrMuxWi6wZP0ayu3MVgV/lUHvpK7kqUIbE\n",
              "Y3g4EMcDheycUiqiKE/jp7dboHBhWOjVbY1ZtpSBznuATYYWO9WaUrWtBU1igde0c9Di3ENIvJQd\n",
              "QwdaDiwJDnt+jESfE0cewvwW3RIbiNX3qOGAgCD9rTFoFrydHXBhFzNDTC6QM5X+b7ZU4EE+vGYB\n",
              "cNJ4gyt8wqlsTkPrIt9tIVyy9mpSmKMdUWmT22zRzZdtYPcK5V5DAdlnjADjq9347cabWivFYqdf\n",
              "TQCjCanV1z6Od24Mn82Pc5tHJ076tSnbu2oJEOgHWgR9thHVuK6Hohcu58RQ4As5HVpsub9WiSne\n",
              "YMY8ANLXuZKSfGbSyiAzFxd8KLV/Y3BW/1EwgWvP9yHrtRGs693DKvE3G3RQGP6tQvMPXLapCOGx\n",
              "AMv68GVTTEiaRLwTOZOia3Hzs3P4PSXc7/uJUgkqT5Ij9IC7DFjolmPqnnskYEwSUSnsGlGMg+cC\n",
              "xyckh5Cxm0cdd3vK3DdVuf1GtyNrRNQuktUqWeuDLoJZrfXB+8JUmhuVbwhdfQq66+zY0ecpWU7U\n",
              "92UMyNgTSeoZebZ7OAGfjaor4/5gBN1NaOM8trZqCx2HSvebZrDrSzeSCJVbnMgrhYbsK20CXVAo\n",
              "AYyRznIDbIzv7QUAYNbQ26Zq+PJvAvD9AhhBsyLPz/05n5MDzBg+KQdiN/JFhsC65ZnrYy9NdTmI\n",
              "hwNCZubsSkWxwYr+9inX7ksZM+t6DKJA/DiBNeY3MPZlnd36vhCQWg71Dc5EgPZNJ6EzPmfADG9M\n",
              "GuECw80kKvoYC5J5pqVvpAosGWKls8myqBUkQPhAXkxV3JrZe14QvYzmfevghlP/l/NPn38a/M1I\n",
              "AAAAjAGfkGpH/wBDfhdk8LrSmWe+qUhNVZEz3nd5t/y5Se7CorG25hAzuvb/8FMQ89TkJOACVzJW\n",
              "eXrX3mj8/DLaVA/zoDr/OsqDYVWN2eWaS+UmRl9BVElwFyI1DbbzA72g5XCoeegeDf0xa3unVodw\n",
              "gy0qZ6boPK1/6VQJjKdgrQP+vMK8nRVx5J3onDeAAAADzEGblEnhDyZTAhf//oywAITE0IRgyMAE\n",
              "zvy8/8RNIk13YygcPLiq9p4vkPCfr5w+CBLqePuJofE+0fEmI2jpxCCk1cvegDl19uKxiBnuQlf5\n",
              "bzMwS4l8aAxXg0AjJ19/GLNKjum8qF5GGlWuXbCfItZBUQd2/euZMQcijRMEpkP5NGcPgoPZ53Am\n",
              "OtupKsCRMl3GlEKLOVuvKlvzN9/idAa/WTfwyVJSmKIYcYdAyTzl8ZMHIC4amVZrenewSJ6aNQC7\n",
              "PueDcyegfKO2kRTIA/nYEux20HeNW0a+RZ9TjQdtQicfuviT4MjqLqY9lahqPhbEbvZb+er9oHgA\n",
              "4M169prS8o5mPRTQznObYPA/iZVX8/PDuAVajsqVCMa3da5b/05N/IWAYjWXvn5JiscNjtxnL+P1\n",
              "udAagL/OohR6pRviMH2CS751W1Rdv0WHVrJnFu84nKZRoSavusIzwJCDFk4VdvACWQHO1Qej8y8h\n",
              "xN6R5K+bTTqqBMGRsQUeooHx/gvPQ072NIbOHEYWmLKM1frJzE2uWiBeb08Ei3IlgYvmhPkYyBig\n",
              "lvC3NiFvdu1+FE1vWk1GqUhnCG5vcneTOWavFJpvzwYUyluL0nQqkj/HB9VagDf/vURfw6Ww9TPW\n",
              "EN4JJqNcd5lqk5blagT0mveFJtMyyGo19laS3HnIsJG9wYQst5EGedwddYHaTzhjPDksP83GOW3k\n",
              "sIlfDqBNSREI60cZFeCdq3ofqevXuoNxX44Onu1TBsaR9ZPUhaHy1FPU6/TExs5bskudqyGCj2Ky\n",
              "KSQBy4RABQ50t15zCBXqVq9huhNeMzFjWTNS49R6IMGaLFQKAIrMGiTmpOzQptw90tWzq6VyB9g+\n",
              "QSHAAhZo/aDTnx+wzaaOXqrtnABQvOZdCZ46YPbpD+4xmNqFzVwo3pPdnKQ9qJRYOnXNC+Yt1edr\n",
              "GE7eg08PYiB9r/zCBWxMsvreOhO6A1T19vEFQGCWj+y0jTagU5yX1gRY3/DMBmH1l4zTAbmeVR8a\n",
              "IN60Q09Wsc25UX9pZuqtQc2CwY9fjHHAYSTNVnQCfkIbCvKprwVbM+urJUYsQAgyASqQHUbgF8mK\n",
              "3kaACIVLeDp2Y88IQwuIczke+2Vl48h9VRS0Tnv38+dx1lAbQkP/n/O8Qve/CAWEJ0PCAciNAxQm\n",
              "wcPkvAIeXfXGpwlJQTyI3p2tQBVUWCbe4+2HGkq1XOBkallT0QZbIVq4BHjLxigjs6Nz3CPOWPCo\n",
              "UC1Ka3VKnvyJCHnTREDSDymafj4MgN5xFGF6m4vufO211EEfiQAAAM1Bn7JFETwj/wArNySY3vmR\n",
              "IALUN5z/uEQrudCBmuLeqFafl818guk5IJ9oQZMAAdwbXk78CJ38d1y5g380kLdI+IRmyzuycvyG\n",
              "nloDK+/xKAjkAnkFwspN77+M3soF9gMJIRHlbZ4Nahd5f4v/elxpKb7YwHWmWdGVgAI307ZqUqyE\n",
              "BffizS7J4ZFa/FLV1IGAhsZIy5Tedr1hP63Fun/MTuLa1nXrx82bvctq/1M5//4EmJwgy/dxTOXG\n",
              "iz8/StadiRz4Ee+CJmwR9InAAAAAlwGf02pH/wBDRvwZZf+8trzmcAC6i9IOKdqA2AhZ6YELi3jv\n",
              "lOiAfDH79WKs97Uj2CXQGhekWo2iG5dbUqzZ0I6t/6/SOznp72jTC8+8sEKZTH69wAUPfaQHeN0+\n",
              "hcFfktJyqffSqr3o5ejirRizq7YG/nO+e7usQo27Fso20ZWwUIWvnbqMqHWzi3i6yD2+vYQZJRka\n",
              "0LgAAAR2QZvYSahBaJlMCFf//jhAAgriAaAEZvFcbBEV8na9eXSBiRqwdJwMRbHCHJI5E7anrrVy\n",
              "PFnNjRNCx0uGRQVZGdO7nYpHo7aGkBLtzOHCpTxn+SXQDSpN+FuEu1i/w8QbMhJ+94T8wPAvyLX4\n",
              "W6cARNg178/pa32PhaWPJr3DiN29sGTUcqv+bTH7GQXPnbDYWpU+8g15K3C1GLH4H+77LHdaoDnG\n",
              "sW8IlDvn/vVtgl7obuQCjYDZ70YPSKGECgq9IcfEeIdpsVLL8OkxGUj+waQFcAgstySAbdo4l3Ij\n",
              "evCxa1N5aEdllYgfPz1JhhHrpx2joPE/qD8gie1I9W5+IiYiwm0wS7O/x8Mut6lHUkoW2NqEU+7M\n",
              "/2nGD6OvqzoM4FDfG8jqKv8Nadnp64Qqk0ErRfy5pFvXMUfcJO1/6fIA9QoKrjGy1qj61A435TvI\n",
              "1BXhCr6KVJ9WWwWYqwvytT9O7EoimhasfrMvya5zfb946+h77oCE9OqRh/Ooe1gIH1DXEW/MXcPZ\n",
              "aZ9O9fgwt3cjR29UyuJCylG1laQESuyqHo0EZt7stKfsV9N2KffOh7BNupTP/XFvpI04Wv7JOI8X\n",
              "SCrY6YGkIfQk/Bg2dFm0w6agrEerG6OXJi8ikfiRZI5Nw8eNTMmKpItIT/tdKJbMGKITwdDHAZbE\n",
              "nrtFEgTErwWGm9CBsHDw0+z6G5ecb4r4C2lbHMH7qA+yejs6W4Iqg9nY7UT0O8ON0t0mbp7gpllx\n",
              "t/qwmXnLzhCXVZRX7iFGnpUOVkE9RKgDDYbDgdUo6d+Ja0n+R2448jImAg3xYXRJaxV3qzbpvKij\n",
              "umihyyvKhA9vBqdw+HEUNac4IQUR64vDKBtMgL2XmpVOCO1fixq2+UEsTU4SFxesf6PiI7Ge/2yV\n",
              "/3vVdBmVOzNzV0eMUCZTAtTgHdLLRr5zpu/wJWI7SI6rKrKDv+h0KqHCy48LQy8PM6oMyXScewwF\n",
              "4R8F/CdsD4R9JRUNNRFG9NKnX4kicw0H0fdp38Tz+tJvKSI6thksb3d5HgcUEenA3cIiCOo/vsp5\n",
              "TIs8JaP6Of7FTvbAVXAlTlVK6S0Tgt3F86yEwDNSKynKjlsg/OsxpZya6UcAbiWRwQINJzb1zZF2\n",
              "VUYTSWThGPBlbv8qeFV4883D5q1cJGcI3mwMbHHq/06TfvuaijqphmsRMOkKnlTTwaZl6rroeeqH\n",
              "6bgJeqSYwM32fqBXe6QVIeCdHvjFJGNcm+/uYNk7svG2R7tXSUnjqSTx/GODP7H/bQdjtLvUbYua\n",
              "yIjcEbUbEAxbiTa+/sVDCf2h3+VKXvWhmpsEflaSFxNAGejbiwwtpGKBKvAeayOJydlWvm6mGZCe\n",
              "jJgY0Ks+2KwZzNulwUl0W0R5ET4EfxPT9a4KxSWy1bWjLxXXcOpcumOI13MNnlK3MOkj7jyzm8cV\n",
              "2nbVVS2keMp1UXZnAkaskoa+Q3MZF+SKzXnS+EVEKem/rDbEXP1zmuJmhUclENTMztOSB+0AVkjA\n",
              "0uOOUzHuGWcAAAEvQZ/2RREsI/8AK7galf/kQAlp6zVrjdouZoy2bk+GG586EMxuk+XHdsslPG3G\n",
              "QHQ8hjq+nBqlsD2wjBGB41U587PnAOBsmrbodPig8s0Ny1SiKOJZyktLZwr7q7eUA2MbciIA0uR5\n",
              "5JgVk2wwn57OnRrUuxEymPZ0JBtQk9WSYUm3SeITUk32PNOXVb52y9WtSjn/R5u91EFNkEoFz4pW\n",
              "fMbNlb/sDWdtFDpx4AZ+AVkKVwcPLxCvoT7XqKX9xbQD+XTi9D4Shddedas/5Wl1w8XeCaj+OctQ\n",
              "LUC7ZFfSZwU1Vi2P3w9L4AnB2A85EYNjoCfvFCX7zbYl+0M+p1xYxLu6WIc5jWkjicKgRvoeygAc\n",
              "2MCNa2Z0Tbiy33/JyqdHFrU0bEQ2871L3Zbws7fAAAAAmgGeFXRH/wBEcGnFqAGCT9lEPmVWAjAh\n",
              "IALqA8VO5ZF0LRCi/sWQLBLwYkZhzynP+EHxboA7o2PDGblgvUuaPGSt5D3Hhl17L64XmoAAusB9\n",
              "bE/6egpOJkiEzoDFBdFb+p+BICYmQknpAORqw5va7HyP21EPJWlxCE8ekJjwhi+rGN66Suakrk4t\n",
              "gvG3yqbsd7Zr/njch32fHS8AAACqAZ4Xakf/AERuPoqJ8wsAAJZz7BN5cCdvJaOMC+ZmVbXL0u/8\n",
              "D726TxjEpkVJjhiMfyeWzfSjgvY8tO+qrgMfDhjG6AzMeNGowiXKGYszIFn79aHM3lPGAskav6Bl\n",
              "2dgxf7LlMXYDrZH9CzvYl+6q6OrKQgudM+cYKhSGBX8zZ7duTCwPKDM7gAudRNpgEizp2Qsb+0Zp\n",
              "mLYKBfPsVAu86l/YzliQC2lqi1kAAAKVQZoZSahBbJlMCFf//jhAA9/x8AAcWcNZbJyWmWEfApky\n",
              "m51ZDtNraUgEWG+4++F8nu78A/LrHwXPIbKcR6WxjGR9Gurh5ujOtcBClMCmkHAa+bjkKAvpuVhZ\n",
              "XFTAkvIBenqE/fv0J6+47Dtd0gNn7RI7cmp3hfipZeo32pp06uKRYkFiW3/BGNSVSP/kgcEDB/gl\n",
              "hs1FZenWBlO8mqzGaxjs5aZ4MMKtWW4nAqwJaREwU3f12e0KwZlpfzH1oOYojzrLmByg09sYf2Kj\n",
              "Jg1Z0h+L0gVEln2TM9Iy11PuUprWMN6c8PBaVjooktqhM9mUifo3NZZL5ZZKSJmrozqkVKV/IewW\n",
              "FWe3AjJUfzWfKSkiauYFqG9HfBIAGAI9t+neV43B4OvBQB7BB/I6s8W//6wkFp6q+ZvQa0GIB1vM\n",
              "mDQvDWUEzwQSqHcn+bECNV1JNr4bLlGjyzP1F6nvN2/V1RZDsSodFaJgVJRfwth3FVmmoX7BXpsc\n",
              "xDTuUBWir6Na/xm7KJP7DFEFHrYGEatlAUBQftmz/uxvj2tDLzdRz+skIlevrq9fG/+u8/42f0Rg\n",
              "5s2jNhlIRrPfL0Dgze1EnnkqKKtG+no2Mv/InDXwFF9pCF1u4AY79TugFw8dix7aiYxODB5ymDxZ\n",
              "La49w+W3marQ9Ab6pmzvJGtQNTMj2ibQrUNqkqterBE43CMXiPZLCUpkPcyq9u8N5/MpQA+To6al\n",
              "Qto0o/s5omXLAsc0+CLgh9tXMZNy5MYGQrXkKwtaPu6wQv6sSgJFVJNDFVRl9byoxh4sh78uWjdC\n",
              "cwRh61SCf0oTKQeIRwjyVO42XABN3sQDmlHPUZZQQigUIBvNorAmN4ANJvszihy25JPjWwP/wAYZ\n",
              "gAAAA0hBmjtJ4QpSZTBRUsK//jhAA/esz0AOPaJPWbgpbun/WHOUWsj0bQIheBHmb0flmHuPdXrj\n",
              "iBtntWx5xmi16+HFI9IX5G7ZbEbtPDwRBety1pI/eU1e0puVxqw5doYCYNdSY2II1LDT0zRwfLPZ\n",
              "R+7Kc5tj5wgiNvzH1LikYXo7WV+140fp1Xr/Hjg1E5ORwZV8nxSva+RHln6eZqqgN8BjqphPFOMv\n",
              "UsIUjFCmOvN81SLrtwsfFe1d4HI4fjpyQYA3/lnS8f8LpxzwruieaSx8V/4C7XteJ4/atTQmAbcQ\n",
              "uKjyIqiN9UOFxGcZ4IsoIqzUBGBGf3sWqrP30+Geoqw+VzS6slgSjFJEvNSJ/9718iyL0nVafmwa\n",
              "hZPAYGewuSZ6JONWKDs8CFg1xAs+XtHTpPjbLPfEdzfxUDNyxd1YgzYYwF0Hvxaa5/IKbeZLkBXH\n",
              "LmqndU33ekQnv71sSjgBv6lNNQmGxmpYO2McEo2i+RuA20FIwydj5UtN6WJWLmE9WLE3n7P/4faQ\n",
              "HyFAl4kptmvEpHKTY6cjW+6bFfnynKpsQDtKCpkJj40wGXwI7CKDO8JXFPx7fI811SW31IMGgsty\n",
              "lHog0RuS9AXvggiTGIN/YeC8fOMNdloGeZO9IWj3ZxKh0ZmBgozCfVkz1mjCc4oN3lDjRz0/A7ZP\n",
              "6ZrcE1w5UOVbHaf1PBnf+OJYf4HX2G/NFBXRg1RcaChI82qTRKCvjRQI7oBn71/6nAuf6bnFEuAb\n",
              "3leatTimrON3X7zIzFk3bAog8STsaBDppYpk1AVpgB0jMzTCC641fPIx2Ic/bwib4N//xU5KKiis\n",
              "idyd9/ZHQnu3JScVuZQbVAkUKIMQC5+4xfGLR9eAFjoWKdL6IxHxLF31XZI/1M5YhEONO709GJG1\n",
              "ICyNWkc44khGxKBx+71vit8CMbr8WPtQp+f1wrMc+3pbycN0sZAxZfGdpA6sFwzic8f6xKT9eIaC\n",
              "W9HAqa9gLeRDYmT1nvLJi5inCby9pv1OObH7nVWxSboRtYrXGGIElt/UAmk/r7uSQVDYNisuB0Zk\n",
              "G8EBMVoqL9pD9UubCXAxacaDVDopgm6pwukCu92iXsweh8I/6o1wGSAyduhTiYEAAACMAZ5aakf/\n",
              "AIZyMTXkAM1PQBS3QQs1l3v+QIWq1iCf9MfvZclz15fT51AvNfqpC4EdPoOcE20k8FdlwoM3vTQZ\n",
              "Vja+1xgxTjGtWbxbV53PZ+/ZEhAEZe44onYKI0J7Qr/NtjqheoVydHT3hbW8XCyao0jquWJGKVg7\n",
              "yb+ngZKEre6XZBYbLauuuzX+jsAAAAJmQZpcSeEOiZTAhf/+jLABCYm/cKwAtj+Prb72UQroj5dd\n",
              "IAbmFtOU2Gw+2hdP6B+CMq0XKYfdM1EmtSyrmb0vrbe2XpUqjo4fqHvg3X0mMRvvTpJTN9UVnis8\n",
              "+1YDqxMMGagcXryDtuMDSI0iaFmq3QCg19n/bcBvCy6xbvX3SDws0RSBAnx8SiKEXjRzix41F6D1\n",
              "Neg2Nuw3DVLds2AaaQuksZ7+0VSru1MGLpE00b9FQycsdE8EDnYDTdocpsticVHuP5NpfpIf0IMw\n",
              "5N6+0DXFmrHJmGca6m1u3z6au3UPPWjHer3LUxVh49AUWy7ZqiEc8XkBiGmJJpGi2A+qvF16CGqy\n",
              "jwxKudA1Egwju/ZbFNDWygpii02CUmDbvWdGzKDZ/M0ghq5BbVlgkgLo04oD6TUPZSdp2Z74ET1L\n",
              "fVOSGQqGZWWGPhozH2Ixq9v9FVWRU3UPSlIuMv+g4FwTX+BhqkWHfXGJwCNXTfnituBMcy00nZB5\n",
              "gUt4rRJ4/WlBYZYXjySkD4sr7nS7YDedIG6PrXBStVIPZ03Gx/e408pKe5DcL/8Cd0ICr/DprZuO\n",
              "WaAJ1T7a8wOk4KKzgAb3yDmGFGStVhmVbZmU5eGcpjhvkaprPTa1xHUKgF4WSTUpbKcft8GSDg2A\n",
              "83ECn7MbA1mON+ZYAJKddSnm/PwYwxc2rGt38PuUMA3DJ9LRXVPzYtJKzWMc2TzUc/KeNYjUhGao\n",
              "2NxMwUSVaoWRXs81Wp52h6H+xIq6m9DcpOoQdlAj0oLiA0lIT+0mnXeXTBdMrxZ9JtrnQWyBSHXa\n",
              "kwmo/rDh6oNcHcEAAAP1QZp+SeEPJlMFFTwv//6MsAEJcvawL2wAtRfAL41BTQIJNpNzu5WOZa67\n",
              "8JsCD+fZ3NKsPGewnX9+ynVZW3Q9RUNF+FboAOO6Q4fMKJxDwYqYy7Qn+dNBCsiRh4ZLWVfzElpa\n",
              "0rcFe5DpUObJeXMIrdEFMmB2rmu8BoYTH2/PXUUubPu5wnjR9VyMPBfeO9GnMODlndCeZp+N6ick\n",
              "7USFKc1qJNiaZV2wYQn8WqVdY8YhPW4gcUsSkXVJQxMPEgP4q1WakTlkkcIIS2x/m3Gbv7/nq2J9\n",
              "MSg3JpwKVXrqnklRQlmXZNoSGgCq0u4D95RDNhawlN6F5xq59o3fZxiE9rChcZzbegn7fTm/YQ/O\n",
              "YkV05NDBimboPc9hfDiNpf5ndrYYHsWHIQuSsWhiudUxNH2twROkIaA0/Shn+cx8mEpQSHttn+b7\n",
              "4RuM88Lpy/8QF6dKDrp+xwr4blqKJyrOdJjE1Hc4q5eS+sAvj/kAOR3Xn8tuMk43kiikFMJ/6PQQ\n",
              "lqt3y3tWS8am7uvf8N/WZhzdeRjogh+bC6/vdSw5SZYaJTvRmlBwWKlQfXO66gD0CYIQG1KFbAFS\n",
              "iSzZqQmKVc8ETJJ3g3JBzaEXDYbEbttITapy6FhSfLyvFvlJdWA7RckKth/kpFfGLVcLjYgssSlt\n",
              "lkrHlMYyZl0qQ8SrmZcFJ9P/aa4b5SSUmm6g5g1CbiOYuEpsfoMpRJZXIeYjc59IYkNyRxAvbRh2\n",
              "4qf7lR0NsjuXe2HgnBz1DArV/DmBsXafxQNMy0+ZvjdBCyZ8O03yHN92+ngkjAh7tpT4tTT0OafC\n",
              "zvvLM7BOfpXMYt9RYcLpQFZcagwhrPsF3UtKfmUK5opQpu+/BlJJsRQ+I/cve/l/mF9MeWok9i63\n",
              "CRxZPPlBGZMjT2go2D66NzvWNBVxvqv/x3UcwleMlOHCnpldppYewAdvz7LMX7VZjX7vefmaE90l\n",
              "7oarWAohen6F3AjeSsAW8hjAPwUU+xFvP7B34NMNNaRLFJmVf09ouFPkSHiEnIOVKkBXL808QM+L\n",
              "SbvqiABIJka15NKs+d+ZtIJ9QhSfD73FusfICRFLTsxzJe+bGSVBiCP5HN5hL9EvPdIOid6vxOkj\n",
              "2q6QoJpdL4mcKpOqGCAsusmLVoQNLXkeiRAbZr+WrKP/jBwYPdBoPXB5X65LTPnHJGIg52daZ4va\n",
              "olJWJb9S7uMfba+P+DlnR+nXTe9VTh4/EUmfpO3UknXMqQz6WMDEH6vC9b15NcxBlTzpwG3sl8eS\n",
              "+TX+UwSvOwMozLNmoMMaAfwnbtAsKk2phG3WYTSQGAjphL/GF/nDeZUEZWK0osyBUUgqwKIXsLqz\n",
              "zQcAAACQAZ6dakf/AIZyKMXkALfUxbE1cDOYT8Mc1OCublAYzrygvZ35N9M2tP3XJnEh8WfPenZn\n",
              "N+ZTElpEuEgE3AKmCocpZPEa1hpJWbT0PRf8loiGRy1aL3InzUT5T2TfoUiCGziLlubXqWan+7ig\n",
              "OEOzKDHSYGdvmYKuURBG29ECI0d4W013zISIs53WclxlhPMHAAACxEGan0nhDyZTAhn//p4QAQTf\n",
              "P1ntZgATjwPAye27lVDDCBibBa57uGdtnRTnX7fXTNWZJvN05sTMF8s8HnxAcePRDHFimLBM+g3G\n",
              "fNyqBklh4VHLIY4QsoNDBztCVDXQpfot0B6I35Z2eOV/Af2SkWGeAu5xZOWgfGtWQn9b4qroOhnJ\n",
              "qrPjDOutTp38hhUadNZLIRlkzbAf3zd6dhq3kQTTTHWejUIQb8Hg/5du/MXzjnHiRsf1BF3YJFdE\n",
              "FI+uvdLrG4OM0zuLuq4hPCWWC8MIEsVtUbRTq1MDx3Dj2G0qNQY6EsuQWZFUjLOUYjEOvkqChM/y\n",
              "2EhvJGSdKi75vX1RIbUDhXzOMo2f0rhAaxZWTBB8xYuS2MK0XzkE61jkAFrSMhO6qgveMZKVPnqx\n",
              "RLuIr0cirJko1mf7HARgX/+68oK66ax/DOzPZKtKUQuAiWnMWSku/5MbUpRgsMh5f+/He9vjyxLu\n",
              "YyFq50FpTBsezcxGcOLX6z5XD2SYGLGNEJRHiqs4tlv8XxknL4EtwlpBPeb6kgrXFgupq90CIyX6\n",
              "Qf8F4chmcWfazB6L7r2cAaSRdPjyYTyzDdNImx0seO7lDTHXfYfz+fN2tuDTjB+F9nEH3G9Y2RZi\n",
              "AWkE1IRNjU21oxHP1mn2idxfOhIOXp4Nug1Z6eCk29hKh25msbnqbGNYwZ1IRT9TwasfNb90X2XJ\n",
              "TZh89sLEUUQY/S8gGxD8TypJ2qgLlf155ffEnftz8/bKY5jfPLneJbtQppO+tNImmdAeU9FAqEEf\n",
              "IEfHwaw83IRljTSPWO9b1Wkca02cZFEoHD4zQb+cAf6ND2B2ex4BHrjviSOz4+K71QVk1Si60err\n",
              "u+b5kRxCMc2uIVqkYVbcaUM/853Q++0PPsayFd/yoHYoDPV2z8QLQ2eU3H0sn9Ub9eT0NP+UmNdI\n",
              "usDzojgngAAABTVBmqNJ4Q8mUwIX//6MsAEPylIXd2JBYoAS1an/M+2tzgRDmc29HVap3VlbVZ2X\n",
              "lK9UCxJTwx80KtOUGRrDmI6+h/gzmwczJIY2F9VjFyob9w4L469UwQ+HTAQTRUnThLC8aoqWdhwr\n",
              "B3cDIKhl1+PYCTJeOKtzLJ7OLHEh80Um9Zkbh8eV4uqfhZBkR0Nm44J6Sx2j2b79Ry5LsskKpoyG\n",
              "nkNVVZQ7CikMYz8bN2EwDisXyonO14jBs2RBoWjyG3RPg9DJ6JL2Q1ZERDP5GQ5wUr3jVp6LAI5/\n",
              "Hk1GrP92TkTRAbOEl72LIBehzRlqqq4ZkRngBKBQgE0mcbVoxHkVluuFHA5XPCAebhuUgwERgSL/\n",
              "KFtPY8nNArpqOkG8HNz6+yPiyRpjKbmuzfTdY2pYROEZ9FidNGpx1CTDleIrG6/LBbvxXg3NxAOJ\n",
              "MA79ABiaxt1n/cZ7ybZURJuDKhEdf+r6yXAZ4ZaZ4bIb97qT3TOgYesDzxbuNN5nU2ZnFcoL3TsX\n",
              "T/xDwyKPe6JIEHTroH+5FxrXij8EOeP6WosFSbIzv+JzY0n09Dr0FAwsu+UiDo2KqJggJFrYXtTh\n",
              "Jhu2VpuG8d2xqoCGH35IG0kBOge85Q/UTIeGHx89vTvcbiI80BiBRs1bGMo1v829hLfoqj+eyxVb\n",
              "MQJe9qc6085U/jy1pEcwlDN6WyTGIJV4f1d0pyLrN7Pgm7twp7ktaXc5vh6x8YAw41dC+0WwUyFR\n",
              "9pw9l3rdjhWokMTBx1JCZErDOkciIWBRMTFbvIeHdEmU5lEzmt5pC4y5UMmy6ZawQuqb8yoyv/aK\n",
              "2P7L3IJrWut5vgH3WIQ+I3RLgqjFyvZpvbjNZVPSGbu94SqzmHVtl4yKXnWrMNRmtSozd91GA/j6\n",
              "PJxsqsAk+z8ydIPEr35buPvx2yJvgvscTwABjmDCQLRBCGD63NR7yMlagHh/X14qfb2yM2ReTcgf\n",
              "qELnjqzF+SYqbupBKUFY+XyuiyghwJa1cfH1LmcqsQA7BAaRsI32k3N+Syj+7Dm+RxiHKTTiRxea\n",
              "RJb2I8sBQ4c7XQhZTeDzBcsLi6628XiX/FZKFe6T3rS2JAmhPtpMm3jRNgneNgXLcDorOfkIjw5F\n",
              "JFxmUuUMOXxenUYXwT0GhmZXTLV+dVo4sJnLk5+tFigjt9jlDhjSt6TEOOs0cs8j2zSh8MG72HgJ\n",
              "4XGaayS8Yog0cO2eNp24jjnqcK7m1xe0D5Ag5H37PQ3VUlHjAU4KFrAPpGDTDFeUQTKJ5ML/ZmwJ\n",
              "0+nufDtBwkoUSkXhddr5wqnKHoKWFM+GdiOLL7h4FMEdelvWu2x9j8vGWI9Ic1tOzkC6qM6rFcvz\n",
              "Jk6bby9gWO1fTLNSMof4Jjq+Bpx/duXOGoFDfSemzEdI25iGw48Qo6II5rzP384kvKgHZ839clfp\n",
              "4y2zYom+mgtV7DqMAoDskACpRD8bwn7n5Xlfov84BbH7sZFjdtwGmIu/AZS1HxaYYrhUTSNSc5Gv\n",
              "m88EzXiFmoBRGfKA12043L4LmaY5LxFyJHisHaNKsko7PqWShg1LbXfJ/CxzwW8at7gPPB5QJ2Tg\n",
              "g2RJYGbRK49idpB8Dj7Zqce83oigvT7SlVOWrq7bOdB77BWauWd7RA6xkLnpGVNTDNvZChUad6se\n",
              "t+4juCkwPtZXGRR6ExCyCPrB84NvplrC5t20ERBFA9CSFek9PHr+r7s2h2oK7Iq4jCX22w8zA2wk\n",
              "05Vt+XS+Ru77gGcYaKlhc7ObMgmQJnKrwSmvJXug6zXhAAAA9kGewUURPCP/AFiw4YUn0AAsojSz\n",
              "KCZhhJ9B4S+xzdduHvVNIA6F8fs811aUKL1KQo9jFPyGd4Gv9Mfi7E2IqrDbZrAsMgEMae6dGLgs\n",
              "qxarc5esp0YJuN7H5osBAjhEHarpQ2n+ElVfd4om974F/fgV3CTTqfy5GLpjF8uxLM5QAgTtkl/N\n",
              "KNblQe85sIYZ8Gx1gUNIx4j3v9tPQPu92rIGrF9T/3V//wZ3JpQuHpclgPdD7Cq7raHsi41xBp4w\n",
              "jJpbf+uNjVZfPpN/S7SAyZ0oFl/ygF1YBKeFKKfEGNKGp1sQzKk1odJD+9HZyvYwLPH9ihj5gAAA\n",
              "AGoBnuB0R/8Ahog+ZJkYGSVH0AAA/JGQP4WJzvEEf7v/fiQSIvBnPOyc05ZaFa2vaihFC0ryIUJJ\n",
              "RCGVFK5wwKmuHeRDzUCJKn9MKb3GTkJ0eAi+S1qvvV3rY8R27pO/V9WsEkm+lHVYZvZ9AAAARwGe\n",
              "4mpH/wCFrTf24gjnrM8cHtwHVAB7htl8ibv2m/GQzJi4h1yMgnaTpflnNPpEtW87ycLQHyZYzPeB\n",
              "sglxp+O+y9Im8VZQAAAElEGa5kmoQWiZTAhn//6eEAEM2/dYCeABwtn1QB9KlQffhMB9z61wJwCh\n",
              "A4hTTEpS8BmbM1bgvTbUrmsgaubrxrDVRl8qitKWMjlgRT1i5Ci35lY2rzax9xFV4BUKeNl1PHCV\n",
              "7u8dr4z2bfjgoLUHojrpZsX6G+WxWYclTY/2WQCW0gfUC5fa3huZi3tWjuWcV5Hug1bFEHZ21l4f\n",
              "Bw4ijE2N/5t65a53SDGbwDMuSQLj5qjV09CeK1u3mG30rumiwR+AHiqvu+u3VT1fuSSf0SIdcJwT\n",
              "TdlnXN9DcC/IkYZ78IEJU3BwmGX/qK9hvjor6wGsEOvf09jwFgv6K33TYhmzz8hLTclNqeCN3Iyu\n",
              "aa++a3dZcPgtE9yI6eTZoKezGD46JL0i9yQwZSIdGiGSznRZ7LRcLej0ERX4I8rSh27j0LJz9yPK\n",
              "CNCpQMnBZVca6BCuQkLwucOLZU6J/vUEbvxVfuVljbEDA6Xv7IASW2+OU/UsbmLWeGC0FSMb3HPp\n",
              "QCasGMeLZMumFwvzc8JEdaTNqpL18rQEacCuKuIuWk+46bfsoDUiYIId2++sXnLw6m203kpwXw7m\n",
              "OD4Vb4Otj3UZYIqJ8DjThxqf3bfFfB1A2HWDq8dZFCFzSQr3GyW237AnZkTuJS11KOmESXHN4CAY\n",
              "ChbGVS5LkVRzrbbv1rzfLE/f9OUdtc+4DpD8VwyuK/zaRu3+Vev/4kIuUjEmqsDhjxGofP6ELqnz\n",
              "cNFhYEmyZsldGsZahUWmIu9qXDifrwvGOa0FJUMjpXoa8XQCgy0N7U9qBOxfxNwOeiCrd/CkpYRS\n",
              "9m/tL2VLWiQpTFx86KyAnKB+nXKzDzC1iNotv5bPjSgInHLbgDXfh9wX7unUfuI31p3A4X/xjnCl\n",
              "5A+gLbPW9yE1SPWo2QyiGhjqL1QOXbL6jN11jUfVSLqCr/mgCy3UYe+e3DPcLhU2q+q2MUu1/OTF\n",
              "R9Sy4B12sWms6aSknPNM+r7FmGXKsgsG/+9Vwl6/THKb4IC0rb5QpOlb36+N3wTsZx3vTpaJO+O2\n",
              "7pmRZebE5qcR3CecTEBNRkVA07k1vI+hJ+735SoiurFE4qcMBTiyWgqCVngXBCSLlOeAViXK9XU6\n",
              "R6AmkGJEnUHL54dA59vwUAQf1AecBQ7aVlLN8eGGPqEF08CqN1LwSXKTNo9ra5iluW9oSSollqbk\n",
              "VmGUnbvX5hgmL5Jh9Xr225bmx6+Aw1JaC3kALuP9Sk9HCu4exBzt2BuqXO0TrFlQie8eLqFlQUiy\n",
              "FmeIHpCxouCNzUIORr87cHbgepRnrx17fT8hNt532+3+N6lpt6IjrJ0EfluZGmN9nhK3uid9oaJ9\n",
              "BcyoXiRC9XX4wa/fZmdEaGl8QSKxUlt1LpQGdv+0Aa/bV2L8DTP5Km4qQoAGj435bEZuwd25SHhk\n",
              "MbH9lhr2O5rromcCzWHF+k4EVzzSuOXEsbGdkWtr1fNq2CAfkLjPN551yO0VPC+EOJgIuSFx/Sl4\n",
              "hWPlh3rgUa/AuXbm+JReKBcKqQ/wSnSCJKcQJb5npDGTHKTFOaplqMsTwzSbLCLhAAAAZUGfBEUR\n",
              "LCP/AFdw40IQaEt1xd075eVAB+pvsRpMzTEG+1N1NwqNozulWVhkbnC1AMeQaLWH7rZbA4fwYaqv\n",
              "tY2X0+YQAKq/sHaiUdtJRxJ5skLwpn93cFTE4+yorFqXrn/+27RBAAAAQwGfJWpH/wCKZrtwJPc2\n",
              "FCLTwM1/ACZ/ONPgsB9vP2m6qyYOblkALiaq4urFfaM/gPxw//UW2EbhaVLAz/xxwVX3JW0AAAVA\n",
              "QZsqSahBbJlMCF///oywAQ/LuJmTT5YArfqD3TKOsmPnGVIFDKIE6P8xwwMHR4ebJ2QADXMncGqa\n",
              "/ac1M9waNmrPatPuiy8rh2dMUP7eDhI0VwJJGwlIrzLbOVENyPLrK18HrfibPKRENTXA58ELg01J\n",
              "kp8wKpCJIT/cumoriqf6ZroV2IOYaD3zpX6uMBEkC8+iH3flRLFNzGrIGfj7o1TQSDBLMWB91oRK\n",
              "eZ6QxHl+UqrzdtVxCYqM1hvrVwvyqzuWEtA1AWILZQrIi+EI8CdWPbNeisekuclSYVnVvdL0ZCG1\n",
              "0h9kjXDKksQ2qV5GBC8xZgErcvO0uDiP35CYdkZMAjXTfxRW6PoSHEuZD/tnmi6n8emBOkNgOQVP\n",
              "gbtwcee3SNUxbF4aUivmXcrPbfAIHrf+Bzv4ja5Igqsgv/dOJ+BbUaO8SKjex03j/MkAlCEvXDx0\n",
              "SzoT7lhQ6hUX6/8XdlSRMhodwM29oJRoGlkyQWUcbUyEhxNw+X+PDO/imh+4YTx6U+Rjp+0184sp\n",
              "9qJ02Pf+4eIb+wGnMJSida8XPpeODrh0DOUQl3w1wnJTNM5YxaTYBYXS0/X1sX0tNDw/xPFxg46c\n",
              "dulqqQkmjUjEZimhdYn6wM/+RHNu8uHhRnDW2tlRBN1Y88r0j1VaKHPKN3txfyz3d1Yk2OtIoiOu\n",
              "kefFO6Vz/X1AEfhmcPXhHjsLOuD4/+PUUkeaKmx8jBf8VQ8kXYKLu3dLftP3zyYrX5MTdfke75nS\n",
              "qxfM5VQFA9yaHCllLKHZpxgmU80kXh5XnKxjopcO3mxPpBrqOqj8UbVcWYXJLyHEKhJ3UseEkoo8\n",
              "SYCv6SIBoIdcHuuILZH6BsjykG0toWmtueb3nGYzLzHNrA4kRxJi0CUw3FLn2EhqXSy0C0hXFnMj\n",
              "biHtGRsFTZN5E2bZtC2t2hHtw3bNFcuyJVzC/8NoJZesZMVzE0iaDLJtGr/7Psxr6p1+4bVeD4B7\n",
              "dOsjTFO/uEmnSbFo51lDZtCCfXQmD6RDtUrmVWQ5A0aN7bMWKDO+Y47nPe79DdXUhlvEy3N/wGNt\n",
              "VSJjrz0FjrHIj2x1G8qlC8aBZJ5YkPkjUCJ+piqrHnba+96dLHLaTbF48tL34aC2nn6MmAtDHNRf\n",
              "mN/+iDvPFI3SsagKNSQxJkvr+/IsND5wYVr7y2F5yrsgVW/Y9W5qM6Cz105Z0I5iZSyvZd/c4gHp\n",
              "ml06yL+oEXPsu3CV0FWwKvD7NuZ2VhKpsK5EwPSsRooLGuv+4ulxiZdgqae/NE1J4dKshuk4zUzF\n",
              "ducPCW6hU4zqfOfkDXqzYpwhJReKKrsvyo8Fhh2s/V++UGw+V1njdqPNjgPc2PdUfQY/Wc0dkqia\n",
              "UsXwMFR9iElmjK9elrCnriGAYAQDzLBSlLa+YNFp8BNfqNGXkXYSRFPxJIVHURDCa+KB9tolxb6I\n",
              "7IMx70k1FhpLahaGgdG09DuBwPxdhSjz1UciQpu4wQqCLxdGDzEg18fh+fNXJUoxJ9aUFENVE9gU\n",
              "k1PIf6B1yNmzLWFl5cMdys4IzH4HtCIyBdwGEQYAZX8TIP0ht8HZQxRJObJYMBRd4z79NC5a6LfT\n",
              "Wy1y1La4H1R3wgIig+pUShZc9bMFvWxujW4KVJJ/wbu44X5FJJ7/CaEDcvE1+haYoNgIFMfztJfO\n",
              "3tuUjmnp1mSMkDiyOmdwMePKX55GwsLxjPcgz/ib5y9NeeSSmywiGBscncHSxHtTs80EnPw6TmcB\n",
              "ZMvAFK5oNjded0ATpd4I4jMv/xnLpC+1EWZdVq7QFJnhAAAAnEGfSEUVLCP/AFdwJ+uD7llos/Ko\n",
              "AWCxrTxa9rG72K058vi6y5DS5wNIEjeAVCPOc5dSeH8juYdDYPCoTUHm6wMp9bEz2o5SHCMvM5JI\n",
              "r2lKbCunLClEzQllmBJA2Vf+trg5+xl9V7Nu/jWXQalpN5sRncR3RwIUggBeKNjk0bo6YLEAMJIu\n",
              "dnE57Xs9XKQW+ViwhJNLVLxjxFY/cgAAADABn2d0R/8AiODN0VbQsvTAF6WJl8ey3ViUlYflDO3b\n",
              "FZ6j/IJE2q+j1Z0SC5GLPuAAAAAoAZ9pakf/AIjg8WOIr3zIaPwL6+wWtgkyP71x5jBNsoFdcnbU\n",
              "Z7xTgQAABKJBm25JqEFsmUwIX//+jLACAsKreNANMLYu9Su7xDqlF7DfuHXnz3MDa5uWAGC2lTFN\n",
              "ckq01R09YSWd59P3KD/f6LbQJu40OWSDVE4vEJA3oNKN6hVD8c++CFErF53OX62rtF+bw1LfPMdN\n",
              "XHKd7WbS3PiTWIAIhL63phpZWvcjzhWb5HJgxSg4ZAfNxlnhgD/Pz50Gfl3D1Z97zjWi/vh0r+2r\n",
              "A5TTdeY3imCMCfiqxiF/KmziNbl/oN60GsLvrVXCVwgBAbs3Kjdq/Rb9c1Ah3A+INgPaL/pUWdBG\n",
              "7/5u+GM2GGMY698BZEAzteAaj19d+gBPJ/tIU93gPLxostX0++o1oZayFrE9WPTiXiQLbE0woToN\n",
              "dcliUkDsgC41twsTOf5hjrpSVusJHnRCpcsTQqbNvsU0W1VSqiNCJUvcNGUC7kyBr5IdNLUY+m1J\n",
              "4gPzAGAelDxYXrEiZ/nJY7MQsEDbwUZ6yrASwMUesp85mrp6Ei1G4p72sLcvjqYP8IwCcVR1xx5o\n",
              "QZCaqIavNKJVyZVEz5LwZe624g74berm71PLEtmpIvuIu27w18XLVU+ztPncIo6qP5jS7ByqJZtZ\n",
              "d3EZAY5EkcpbMCnCfid+nLGV+Vb26njFPBFX4wytoT9l3GNOYUlA6pILpw5BGVJ9myAoZkGi0nhX\n",
              "S2qmVkOcNzlN/jzlA0rWV55ajHhtwDpVtMAdAxQtFzSyHjbBliESCr4kExGWUvInvx7q9MDArbyS\n",
              "gUopDviYdTi7PrluuAdBVYbecD0VvHukkw7lYO4l2UeK45kMkyU5HlI1hbeDY9QChsodsJkIktCs\n",
              "Q1vfwC9JFS1Q1e6ID9mIJlQpw+MgshnHXs0HT4y2vN8bm7K9XjaL6UmQgKbP4uFoRttbve/7xOTM\n",
              "A1RQUDVWLOrTz6ippSNOPhajny4Dg9tu7PKqRZD0u/7qYDytwLQ+8ytE65eMpOGTcgex44rOqUw9\n",
              "MNGlzBUHcW3mNfKM5Dlu+3r9BXHHoyCPgNGuyNZ8uzv+dpvCKM+2xqyHfcOXfPpr19cFwD8y4Zyl\n",
              "MI5bq3cn4N8W4gxsY2vYlmqZDmT/QVHbpx7V8D/pa+zUUiSDpM6dddHFCUH86bQ6dorgIeiuW1ng\n",
              "hKd18XpzGu8+Xy45u/HCGL6M2XUDOlz2NyDmMi17Nor2wSe9bxErAvjXz66OuuDiNMAzXKpnL3Q0\n",
              "5KDzpVEugDCaHAGOmQNrh7Wp/bNL3Gkr6C8+bZ6NLiKCgNG0afST86MNWuhBaYF7w9JMK0b2k0El\n",
              "Tbz18FZqswXRNqqWkD8tIM5d1yvmjlcPX58jhUyYm5Vqwy4st5ZUkmlaa+b6DUrpf9bX8phVBJmv\n",
              "Pr0CMlAwo4IYfJ//jEPijrymJaDhR0OOyyCrPI2z/7omnMiVr3g/fZ0L2BaUUVdaMMsfIC4Y17EE\n",
              "H3JMSe4fM2lmLvxf/w6fta8N132Wb/Xg3EXxm3YXBuA72ubXahloKT9535bdgF4E7S95qGpXRHXc\n",
              "vEpMMJhFZZ6WsfMGSB503T4R2WEhDLQ2Reu3EyrkgVXRaNQ/ifPphXd5yuz2rvGRtVa1GhrTAAAA\n",
              "aUGfjEUVLCP/AKdTCeMcNFcm+HSo7/WCJomRGiKmcdYEACwcaZhQa/LwcD/WZs8fFtColYdP5hVf\n",
              "W0QGczR/izR27AL5oR1RBSz9wHxz+c3RLh5SAgPSkp3dF38H+7qp+kX7bfR3ON+owAAAACUBn6t0\n",
              "R/8Aho2fNJF5Z9hoiwSOmBnkB9dJnlSgBbZTDFtT2yvNAAAAGwGfrWpH/wCJ/9RDw1sx+qK6XWoD\n",
              "ForaHPnmPwAABIVBm7JJqEFsmUwIX//+jLACD8/brjC+N1aAEGyAojOj/7m0FqvQY4axJju/gc7S\n",
              "WXfssN02ZczKG/1AVCkYiIjZ0kfQQsrLncOOzNFsyQiDZfWfOnnOXs3S4Wm8oFX79blGWz7lHbXw\n",
              "xU+JWD5JVFjdsBu9+Wo7uRGfNKk/56m7SPC3U2EQzzRfs4Y9GvAMBq1a25/Zv84asx4drUkDgQEB\n",
              "wSxf2yK0H34ePeq6tqji/uJo1NOrGT5tE7QkU/sjBzvsfh2nKMH0zdBUhUV31sp9mMFeoWL++fhW\n",
              "erhdJFLNSo6vN484oFGkq01BMq6GTK6doSFMt3/+1tmFA9XERYq6B+vHgkpVKfCrEy2pwZdCP+pG\n",
              "EQ7Fq+ahjkoJhzkBxGHA8QLMoi3MXTNRS+3M14RSnkki89JJmDZSwYytDsgA6fkkCOvQRkVMmyih\n",
              "9rCgs/P546aQyqTcQL0h+OP4t+t85dk8gsQH7z3EKhqPcn+S0N+87kmnGVK1XNpXJ6aQhMyZOUvP\n",
              "ifTTz+bPeiQnQGb95AqBmGQT2Epf8of3daQ9wfMtSje5dBI1X/1xJGtZfgkuvM9+H1q8TRUDh/sZ\n",
              "+H8MHZvGXJW2olhloyXWtOqUauC6NDyNNbwuI3UnqSv0ImcpFtpPzFBxkYQXl54T+nUinp2bkvVl\n",
              "boiwWNp9xAHFd2Ausc6nXUbmCJhcfr2SnYDY/j4f2Zhol8DGzRMen14PEvLAERD4HSZBG/RdVqzr\n",
              "ivyJLTYuCGYAqxuX30IpHi0sYcZVMieloe+LKmhtgM/tsJo8zjiiNIjWiU+05jIgNOFrHZ2665nR\n",
              "lDRMecm/6VYaNUjqYl+M7qRDucSYCvwjhqeYHwFiAtX+DnDroPRA82nQjTg8LjNLJU6ieawkxsQR\n",
              "VA3AQOaYJs3PW9ZZKLU8NwGteP/y09aGIpmVlFuUkGmOTaUSjBARU7Qpa7jN4klNt7h+ANeVfLUI\n",
              "g1SnKOkWRGMrk5JvVQQ5VR506d6t2cRUfaeMAIAbOePNRgbUn8KLeRQ4GdrShX7QF8CRFMs5AnsP\n",
              "/06twbaWTOim+bc1LyukR9s7bf9P6WkZmz5D7vKzbSsGHX/gCtD+sbu7HL9rpe6pANAVaZJYf3c+\n",
              "7xjqjnbhIo4TyNLeABpbweAs3ds0fz+11MYj2aEdxYLjGbp+hG3KRON+pUZpQTorHB50UX+mrrzv\n",
              "ShHX5a3ktDLae6dwUhxCz+uV8wqWsT27z/8t2eNZy9j2XxPM84gzky4XdsfM+WWwvOnM/IfNccIw\n",
              "rwAR7REWXobwdkvBpd/Mw0BTfV/8nbvaVmEndiP2QkruFPqohyxd99otryoIY6Mx5ORqu5uEifIj\n",
              "cEKd5jEyI+89KYUa6bPVlSsIfkeZ0I80/nYWshLWrbHem6iuGipsc9b7RvmkkSsMN911P8pzLvk+\n",
              "izHZ3L/mwiPDaPvPD0Bq/SfJeop2a/2yj40y9zDQL2fUjDbZ8nxvB+RETlWiyFbihzvkMmioqdwg\n",
              "lnf1kprIUN/9DHZCUJ+joiG6YR9PHog28cuZwQAAAIJBn9BFFSwj/wCqYdH8OT0xU7D25q2t+zQA\n",
              "0V7bOJQvNE8Bs9iaI6Kc6BzXao1TSaFrCh4uWCqq438RKhzUPDZW+gpdLmi8s5QKPebU8ze53Ffd\n",
              "D9OujkPhuttTf2nha1TdkXjis+U6ai2TPKj5nA9HQx9u20n44Mr8PsCaXqXOYYrCAAAAHAGf73RH\n",
              "/wCCm7W++kO+ad1fsvA1sMCjHxT+A28AAAAcAZ/xakf/AIbAQxREFoEGvyZAnXv0oDuqCnlw0QAA\n",
              "A9BBm/ZJqEFsmUwIV//+OEAH6ZqxRPAEKJpvLPpORGJWIIXslHrcQWWkSJdDDtvWbQ8xRIRGAeTY\n",
              "dAGiA3o5dwiMb9534WoaRZrrovbNNK1Go6r+RacSTGJFQJKmmFf86uPag7IGxDZtDiywrYD5Aror\n",
              "CgC7tsgM5/s5xv2xHnENKCTlLi4lh9pSvWtcCMUCUs0Y1ZKiirB1VCTGhRXLzuZRHMznsjmc+tRx\n",
              "arVtzanzJ/EG0Y7sTlnXAuN1RKv/ZTeazz3U5ZAAuRqYxLQj4bUg955mNj41c1STJl4igRN2wTg6\n",
              "PJMIwzGg8XD3fEfOq136SEzWpqDaB2VCdGOgK7S4xWlR0YHSpDfoanBNBs1pOLzr/1VukPRvekqZ\n",
              "r/927wTA7fwgUR9O684rlUb95U3B9L2UWwsigbA1Mskb279YMG7t/woJVZH1mp0bi2ypU8O0w3FL\n",
              "ly4Wks/rwII49dKX/8WlPx7Bli7mcJp6aAItUsGcYxR5ex8YP0COIvnZAJpoYL4RfYnz64qCSau/\n",
              "b62NIMzN34ct163CA+PMpnfjteAIwxAxnykrTzUwMPWSwhvKDIjt8dD7sAk8zqOtLXTKXyjLPfw9\n",
              "m8EYuYaHAZeWcMWrSdbtP5hG3hXV1lr+a57611OrIGTYgbD+XrlEMBm6E/glOS1QeagBUZhzTn+X\n",
              "fZFZr6fdxyUbZ4VkorlWAx8FP1p8d95k1wnwp8qHCetX2w5kWM5de4aqpJIYHtb/6Y9lpfsx/Ijn\n",
              "QD3wBQagbR7V/UkDI+qhmZ14gGEy7N/Pxs1sKE3qEWnd/WX7PAzhH8s1mZLQzuUGiryOc5iAUnwb\n",
              "bNg3tuH+1CDIGBB/aOiwm/+eW5G6Xjf0ILjSBOGZEvfUEetmuNMAniQS2pv+VHrL8fHaYD8Xrr39\n",
              "JhIDIZKaxs2HHi/O3cqH5iZlSUdsma8i8m4c8YBkPdn1KQluO9ETHqMwMQGslOyC9MJmBMS4kEin\n",
              "wXU8fYPKqnZ+MZYGkoIojR//shA+Q1ae8Q4ObBFG7TouvrnJnI3yNgQfW85mZ2w9QhFvG4ph4CV/\n",
              "Wl5NrHZDQzS+OlYRlBF183kZmkK4jutepoguaqKgA3VMEhGjn5v54mTFeyVyhR0oaBj0kzdqp62s\n",
              "NwjJT9kYr/I4z1h0k8r5wsMFE9xHKlMbT3nUzURdzW28832wEzGeUaxG0CeuGdL/nVwqEQPS6P32\n",
              "RVtoOHYjuhev8+1f3S0eLlu7eje8z1YwmEzq/P/BxhQEXboMyCMImqTrBN0ajd8N7uZztgUcKieh\n",
              "ya9HtJlbjjw4AAAAkkGeFEUVLCP/AKjWhABYA5vO+sMGz5kt7aOyx2rj4/n0CZRV6mo6DbC3HbK9\n",
              "21wF45fMODPjHsa4kzG//4vVQwqHbhJ2udZ6rgK7wPEmYlMAxNmbjRi956Dt0d/afvY+6l01fEjT\n",
              "C4EMmYPlcbAgktDB5HD0ib4lYmG99DrszjJyGjL2LjoVIn+RVeQP5U1ZeSDgAAAAFQGeM3RH/wAT\n",
              "YacZyT+yrgq9Gy2QAQAAABkBnjVqR/8AJrJJfj/cOGf+J8y8PXlv7FAcAAABw0GaN0moQWyZTAhf\n",
              "//6MsAIRPniAFq6aiwM4TNnpm3+RtAqGIulH1tbCXOirIjxZO0rBfjgnZppx8JPJ+Xbq4xOTYyVC\n",
              "Phk0btvorWuttpxt6VbH9Aodp8cz7X38RaXJRckr07u0/SxQNH0yoPWci9DP2dojTUwdicZFdwe7\n",
              "MDbIM6ez+Mj4nG8Xc+lQI55jWew1ZVlE3bTK5Oatx2IK9qnsXz1c0IsbTIoz2RQx+f7AORii3NDC\n",
              "r/g2anEKPVUSsV+82r1yCF3IE5NfKvm+E6+skOd/p+9m0qLNav9stD+sRnpezruKQtx99n+SbCNU\n",
              "zJBZJ35HkxfySxaUz9wTlJkBl7Fy50s1/Uzxi/6hg4XiV5DveUrXboy/VeXkLr4gh3OM/7Nny86p\n",
              "k53oxydt0ZOUcbb7Mj1o6LhP2nalJwMbgKgByq06BoObLhxOLQ3ThqnSMB4V/vzHzuLmxgo2v27D\n",
              "zFmQXMWmTalmz74gX8rj2q8qd6xBlNdgPGZ3opHUd39RiGkjyATaHGLCu6YLSiaih/QPNoQ1SLQD\n",
              "zf2TZIJ//SK5951jUBi/H/FYLZZnIyP0xx+7GtFQss4QOBCuaDLyreEAAAOeQZpbSeEKUmUwIV/+\n",
              "OEAH6Zqz9lgFISCZ1/8Pr6sW/xE2yCHEeqo9twBuB0l89iKvYaUiCtgS01T0J59sMlhphz72Vl5x\n",
              "9lVCY3LOVWZVvnRNgEs2l+l82csGFkJfmI7pnvOyocZNeBzuEv79P9PMLHcDkClHqpYBifH1Ilsc\n",
              "zS3E8hMA97kouUStPnp2oRtzfNKPHB2Zs78nlo5Sgg4Kso43l3SVE7zbUxmxu7ZRLSJPkK3yqd4A\n",
              "GxVG9w7M/VnXEQiW/xBMJuZSuXumtAMDlgZ56EAscHlnPjshbYf001shyoI1LYHTpkkBYfp96Hsr\n",
              "xHSBjy/7sACDkK3/r5LrJU84NLNO/Hts/koTpxVaLuPK67bBOecHEtU9siTQ2ScnHBxR+KDFFR7K\n",
              "OjNeRKCXWHdWRaZko8mkTrOIzwUQPGnPspObYWTPouClMvU8rqa7N4TTm6cuUERGrOxDXtEC4YYv\n",
              "ZsLuiFy4aGxVRIaH+N/fttr2gQcRKKsNxz01zxSMGdUc5L0LgBnxWcE6sAsHbOHHlheUvrd0pFU7\n",
              "BOGubpSXeSwPwgVrPwq93Yt3j8dPAHg3BaPbNQICDbRUg3lnXjiW2jvawjIEsybzyAlODxNFm8II\n",
              "FZNZ+RyGPExznjNFeHd1a7Fd8TzUK2Dw0ZgaObNTjzKaS2la45gGsHfzfZzdfYdQzQGM1qOen3H/\n",
              "FOZIDvVxhxfS8LGVhAYWWY3uFGaT0AesoH//tboRw+jrf3M9ZwIblJfHQJwyIWaNjPHxCdVbHLvx\n",
              "i/OX1iNG+gS2a7udYJqUZVn0ftJgOSakDG6OHgY44c5Q5rBHMQHnRNoyTQul+d1hL3ExRzcdF4I4\n",
              "OI8K5BZ7B+oEIvHcs4Zj1BCC2826nj4sZI8EJRDMj+YvlcZlnx8vWNXNWYgC98CFk3duuza78F1U\n",
              "wwOmfox+B1aj2txRPbN+ob37t2ZCoVGSpEQwO3GLYmeGMmmygF1EtEiYcTwLkB+5z19dYMRLbJhl\n",
              "lBXlcT/fKtWFV7mCiVM6XS4v1m+mtfve67T2nGPP91VrD9Os0eYGZsJNEQP8+drGIvqfIU+HQQcY\n",
              "OIFFXuNjeUvrrjENA4mkVleX5Po5CtLY5jpIB2Iy4QO8dkN2pG/XBVi5zQ1gHxbvZfM9SxxzT9HQ\n",
              "PhXXERS0OZqPWMLw2k0qwFFEq5Vd0Pzps4IHXHzzNO98+lamQS9jTp8df9mR802gPQeD/CotuoLc\n",
              "p3MAAAAuQZ55RTRMI/8AWHeEjUI8eOTTGvI4BDCE3RdAC3hzSX9nEC7Rcaqg+P03EeojDgAAABEB\n",
              "nph0R/8ACoC5yvcaTJeDgQAAABkBnppqR/8AJrKz9tvseJpjqxJUmBWA57UwAAAB5kGanEmoQWiZ\n",
              "TAhX//44QAfpmonxgFDA376fwZt5OSeXMcgTfEWcktp8MpxImkr3BpbtMdn9vWdBJtspgpYZDnPH\n",
              "+NwD1mr3t+1cw8TIzzMy/fCKWiEykyzyAIFjEHGlfJQo6AETg+XQjIm6FN3K36/CUOa6s3Np5DGB\n",
              "mFVj3cP+ltdp8pFGitXHW3xR7D1dVtfQQ/Dp9u5cIzICMWYO39W8koXuxgUbyalG4i2cH9nkyBbB\n",
              "umx8uJEhlj4ka7/GfkGmKhz6Wmf9H7U2Ai+uT4edcpP5rVbaDBkrRexlDeiKbRcO9V5Kaq/J9I6O\n",
              "Xq+2tkMQY73OO2UJ5HdLifuOUdV+WlsDVpeWp1upUYFlSxHsjcscB5f55CxLIpQYI4vhMLaLVa4u\n",
              "DJM5e9xH9M+YFe5CwfDXCed4C4VV+CGFh7hdnKCkE4MQvJhFSEjBXQHklsp4tU17ilkIXmyQAw58\n",
              "gN5ReIXj8IJttszkx137ZGqvgeGmPfQ22nesyUTiE+H/Dqb3spPGEdXaSejftpn88wcGoJdqg36m\n",
              "5T9rlgbQsBG7F6ig3her+4xm3AHZ3DZ3QH7GQr3l9dOw+p5ko7bgLxf/U+F05Y4nDS2hUhPpnzmi\n",
              "aSXpiBsGxT6XQHJa5/za8CVtMdvmgQAAAXFBmr1J4QpSZTAhX/44QAfry9gFIxDgIWtxn/e3D+Ug\n",
              "g7nPLPRryfT/koUqPcYtJJm0rLhkr39U4lTFwq1ciHU3nr/9vZNqfRqcQPcOkmH6INuU8yOrWgp3\n",
              "e1O1LMVJfASRCQoucKAb822yoq6yeEvm7sdlkXzq/fK/qJHCXqj9Nesea97K8PFCq6yhLvX0fS8v\n",
              "DjsJDgO9ZjH26CX6Jr3f6pf6dbZTNE+g1nVpRWyTIfB5wYVRseJgBQcAWX3xmfUwNvDyprjNI/1S\n",
              "9feW39ss16X4WO2EYsSE63s1/6pCPxm/0wIxIkTgGobYHZ3mR79xzplDPDflO4lRSmZLDXNfX0ox\n",
              "HuVLPS54aPscwOo3jOfL+ci00LaQLLb7Sc8nAoH3W1Oo3BnRtOo4jBGirtFCpSWMfo8P7xIiEwIR\n",
              "OWG2Ul1yRQcWSglaz57hxVxQwAAt0mYBvV1TINj/Cle79nYBClUDbr2pMFxHNPN6mTLgCDcAAAG+\n",
              "QZreSeEOiZTAhX/+OEAH6ZqJ8YBSPutMPHiDdy7GHfQjeIBXLIjiywKLELAYtoHsofH+9QEuw8My\n",
              "nUEG4AimjxMzg+4DFPUWm+MqGpsgz3eDnUYLUdaExnqQiw1yYco1v5zv3VPUeUkIkU6bl5gPPIHV\n",
              "afWGLAAhnrP83bDysexqrpDHMb7SXeLcWXeb8mYBCBMUy+a9Hk4PaG+zRKKBww71/GxXms2s5K7L\n",
              "UA0R+kv0gVjBaKeAPuALkGrnyt//GLEQHbw/bHoS+wS7EtedkihxoWyUZZ/ut99OHeyEbl7gKEL/\n",
              "80TXJKxD8lVzHce8DhXlfUoqX5wIWRjDRdACw74bMO1Ub3SELonqz0DwydTJU0AIxY+prPFOfORJ\n",
              "QEICMthD+P/dJewUHnt0pqH+QkHEnAJHE0Pk9IkEsvHPz3J9/2E1N+KpAzfqJSHXgxB6/M6vmpE5\n",
              "BewQLNhdMUdwuLsPUshH4/Qk1+1pLzHzRb6Kss56y4/vf0s0a0b5Krz27LEFFuO0muRtszS9PwP2\n",
              "VqjDGNmRvaA2KL7xOXMoyXpyhSrF95qLA+o6m/aTqKzOb4xhBsWyVF1MHCs0ZDgAAAFVQZr/SeEP\n",
              "JlMCFf/+OEAH6ZqKW0AoXoU64x9ts4rPCKsalB1CTq3/KLY/mwSK+cR5gdmI+iD87bGGpYWG9UXS\n",
              "D380PDYpHtg4nvyxfXRhscMYgA9p030ADs/ECaISmt8L/vnIWcdPdR1680/Om4rtCY60ewAOiedH\n",
              "r4X/ww4JCHJ0lXXegpwC3GVRx2Xbt95YIGe+4/dxyAaRscH93uOZ050lSOM2+SQZlg+2XP6jnDLJ\n",
              "KqnuWRja15w09OWrlZFedYxHBLlUYrlum9oM5X0fZfoaUGWMzAXggr3uPnEFpCVIC+bPX5McH7nN\n",
              "jOLZV6vIpVpGAn3ZLe1XSS3njY8YVLNecXKmYmpke3CPJTFZ5XtgoR2nZHNYrwWWQUIG8qlqeHER\n",
              "6+oIInLvdpYJ2GETGiUIYx56BUFo+65HM1AcVjMleZlbZggHZ5YWzNXVdMbhzlviqRIAAAGlQZsA\n",
              "SeEPJlMCFf/+OEAH6ZqJ8YBQ5ZOZoXV6vfOwDRaLVUjP9lDc+32AJjRlwaE+zt4kAkjT3m5R9N2+\n",
              "HZoGW7zo2gwCoLbYOcEr7NtHhwAa+bLda8yty6Os4CQK2QwUw1gmkoAzxU4gbsKFOZscE87tI0jt\n",
              "w0prjLpKyMk5qO1SHeftbFAbQYWgP3woJa6CFnzJ/jUUaxt3jUJOvufuhEyT655AgisskKcxTs8V\n",
              "kDuJFaGSUeuHCdxcUSC1wlOcRCP6XJSsHfwY+CTcpRZGUs8xcE9GJWY6DYFW7LexG7mSYwyCLhwU\n",
              "MzRbMQ4uCdJ86RDzcHjYoIBqUj2LnkqaHMeX+cs45HFmfCToaSAo35fHBud4Yld1evmB8N189JoG\n",
              "p/L6jQUral6p2wu1l6RJvwGh0lalK17w0oiwQWZ5OMi/1hyy+DRdIr+qYHerOcPIg2WSuQAAC3NS\n",
              "TEtDW79zBcf2OWi1LoOO/ONiKT1stodhMpvg2fY0jZOVrF/XwKuSP9X92oLOrsTU+6Az14GiFVOe\n",
              "r27Uzmvzmev7pIA3o5GBirPmgQAAAUNBmyFJ4Q8mUwIV//44QAfry9gFIH3KNtLhgXun0NEf0fJa\n",
              "qC3R0R1eMD8BwoP7WdRxQA6PARKhmUVZU22V7Bn33RiqeXAnw24OQ6LxVqahrC6OPTaDbx+xES1+\n",
              "DdGWppOH5jZkjEgr/iBVAniqykvkpGYBkQ7fgd4H2UY2MhzZNzEB9i98wXvRezIHZAhzWfsxx1Yk\n",
              "5NQP3VgoKOCrlEM1KJ8yRas/yk/k3oe9bS2myIy/10VN14Rwls86pJvhDjnXv1BHEYg/50O5n19C\n",
              "cexdq7a6FyBKhXCytQPHzi7+REFv/YjY47HWs5Lu2OJgmb854DyqTFOtsKLTsut6dTPnIXCNCCVs\n",
              "f1010yUTyUMKGCkRE8/wt/rCAFF04eiKh93wTaJs4OCh9sTql5adrp/5vmAVsIfGj+D4bj4+FXv8\n",
              "LHYzYAAAAW9Bm0JJ4Q8mUwIV//44QAfry9gFI64OumfBTpn28EWri2r4Oi7bmIQsNyTLipG7cFOE\n",
              "tEHnZiwJe3NPNq+pznQTk0Q/RcAEs+UELOP84vTUMux5cA+07QTw/B5DMXrjloxG3B2BBe4VrJ8H\n",
              "tmQwRfNqxkybk6RsMjG5EC9YgumQGtvw8WX+wq9s/FylUQItL5X6KZpxjZ3rt5VrRN1E8VlBk2gh\n",
              "8x0rmAvbNeRF02FGJ848lkEfZzVcij0yhYFBUbPZsdU1IQzuqJuNHs7MyM7T5zo5JfNqIinvmtLS\n",
              "Vyd3/sW7woQ7I5D5xxXFHV81yiiPIxVb78qAS/2tBOSlfdLwI6o2gNoesoYkEkZY2KggYj8s/nq5\n",
              "F758OLpLaCHUtd4S7mIAvn1RbqSRXoBnh4fWp+4Mx/V+1BI1eD9uWszRyb7fQjQXTaWfsSW8CfEW\n",
              "kqTVa1vBMZFLSMtISSNLekU2Sc8RvEQRB4oIvGqdCkpxAAABSUGbY0nhDyZTAhX//jhAB+vL2AUc\n",
              "KsXX4upDazQcDUp7U0sAoslDsftqojWyX9UiPweGVB0nB2ka/9VWIvMTl9csjyfVkuzXxTNi6PfV\n",
              "CFrRiV0RwitXioWI2818JeQc1TFTu4eKdbJ6p6/MwHWZrrTJszYuiAAkgBfDG4DPZb3Zb0/tclkz\n",
              "le63A+bO5zpwztXnz/dRIultkjFzRndt4KD0pHnVM1/deAPQooX/lPtsNXBYrz0uUxEPWlBS4wEC\n",
              "jBrVaD91blQGcNd5DSDUGS/tsk2yK+fHiojK9+WnkrkKGvfSaPPgensMHSkw/Nneh7FYybM3E/wF\n",
              "HpvbOA6sch5SKH7MIzyApwG787i0df6iRB8zz2vOIw80U9pFWpWGmMw3wUdEmIwLHBYOAEAB8Aiq\n",
              "X1VjQ9p86Ojx1Gfe3S8BIyqd64/5V+aAAAABREGbhEnhDyZTAhX//jhAB+vTZwFAmJ2sZe82Mvyy\n",
              "8tgJPpHvMMOhFuBG+QNsR9cqrGcmVRrkJbj7QJbzdURHZIWIzgGyiGDm19BKsGmtb52Lq2WMPb2J\n",
              "cGiyqanBlY5OKPD9Pd5NeWjh8td8HtcgtwFez5k59sITYF7M/ku4cFte+bVSl8VXGHQKxt1lNcSK\n",
              "uchzYEMkqUYpr+Zebru6S5XFFjsnsfxx+qSZCRqZVJgam3DDq7asd9/99qkluWq7LpVKTTgGAvso\n",
              "RWIvaPfwOB1ZqjIJygYmUmatbbe2z0ANyefOZcm0J27n70QfUYcaRYDnqUASGZZsV+47CM7QKwb5\n",
              "EFX+Ug123TPxEYNlOE33m1kW2rlPBFOUhS2lBUlqnrlWOmNrvkS9nu5G8MTDoOPvcqssnl47XVGn\n",
              "chyGHxtYy2M3jwAAAYpBm6VJ4Q8mUwIV//44QAfr02cBQQTlWy3BQGm+9gda36vhSgd8RhDH/vTD\n",
              "pAp21wikTkpj6o9tRYf6aTBaoIwHa8cVTIehU+qynBuAKo3Upk+4OAmE7DWA6pRY3eT4pNU/0c0H\n",
              "C7FbeUyyPLrn5y8a1Btm0Sp2VL4iEeG11YN0N8zAJ38nskcatc+djvSTOJEwHDBMTThtEetv6vkE\n",
              "XqqXB+NXzK/CiCJKTHaLMm3s3rNofibqQomMWWfb0lFWRYSIm6uhTPNmRxZ3egjEIfkkO5YF5dET\n",
              "eKmiG6zlR/OdtmL68vnmgO+UL4IgPXWfGlnuqQPoMWotEUfOMWUxAHDuwYlPmCGjLgmaL1oMtCqV\n",
              "eFW6C3HcQK3K/x98Hom5jbUzB63CYRI/Ouj0wp9/ybr6DIzenTCGpZFYr2TbO23hTFzjWZAG8XNP\n",
              "P3WCzdxz3MdAl2kRMJcccYz0p+V84/K3rSGZ5BnMjI4NYyqOOYJqdLEvtXO6oxhcv6mVf97uAWXS\n",
              "gfptnVWpttsxAAAA+kGbxknhDyZTAhX//jhAB+vL2AUZOtdGpGd2mueNtEnM6PsEBREB50ATxTwJ\n",
              "5KlYGpMHuUOwCBgE14M9rReCFJr73ue1IiIENv0hDx33KJIDua6xGD+MFlGr6plQ37/lM3RadiPL\n",
              "8/dB0UxJmYovZ924qokoXxBZQtlAIoIjcNCqg0WutJyO903f+txTInWw6NmYJ6cyGiaU1u1oOEDv\n",
              "/WXW1iKhNftFx1dlf00vUlXHJ3L5o2kTuTU6mGDGuqoT6nEK6Na7tcbpOr53y1z9PVopn7nm91wZ\n",
              "yidT0GhzbiIL6Zc6e/x5gwWGtH+7w0OVeyeEmvl1Sc88lHEAAAFQQZvnSeEPJlMCFf/+OEAH68vY\n",
              "A2WZ5l+TEkxHAG6ui5WUGOJAfLccRBf6fkFzn95SEiQk2K//Wtnp+eHdhal4i4CQo8Tf+W8SRQC0\n",
              "nzLqrAUCPft0xD9Z7qLbk9gYvQEQXtItfXp/3tlhbUfuhSfjaaG6Qv6ci3K4qJ4nbMPQkCv93KdO\n",
              "jY83pwtaPd1KjVO1P+Oo0KuC/9zOJK6GKUvgjZQimWEwzK7MGCQOCxxLLDJdpvb32hKOzIOmIa+r\n",
              "mopFPPmuZO5UgAD827gWf0y1lR6UW3fwz005VBQNRcf85vozoMEBGhHROb6yxmdF9m+R8SR/srYb\n",
              "AGIMb9p7e9EnmhmnQFktl7JUjuz5rPrq+XYon6hVoWVhwuNsBu683/zY2q0L+Lk99Hht0V4Nwyl9\n",
              "l1b5kzaet/EV0k4qIsjF5nAaiKn5h9MIosQ+nabM2EzZAAABIUGaCEnhDyZTAhX//jhAB+vL2ANp\n",
              "UojPzcw+gX6GiH6tb9CXXuoyHKPrPRDpD9XpdxZuBZpcgFsPOrT6vlrWW7Q3UoMIaJ5ATkDFn9bt\n",
              "ARspplwR41DAM2xTsjMfyUMj/7IioMO2D2xNch3v8XFX/mpuJl03sI+PX45PJTgb7JtWsHTJBLPR\n",
              "2A2TM/5HcLg98NxCaeyM/juIjcgAdhASVpLLK4R7gRrQW3d7+d/67szeW8iqIrqQZ7LANREbMMR7\n",
              "+/v8RX7zwulP6d2oSlrnTLYkFl0uWhmNao5tmC4mkCKl2qsXEO7ma4K8AAg8mQrmi1mVT8aROTAq\n",
              "EDe7okFTOKrwWSAb0yhk1mjXKQaj/IERnRvN0wkdx91hrNt2ZiCMdzAAAAERQZopSeEPJlMCFf/+\n",
              "OEAHv+UxgIjHGbcgPBiaFGShKr78dZ3xl1Ey9vCEN583lY+ZZ4B3oI41XuKI7gZuVhkmFMrV5tIj\n",
              "7wzobpIwbgnE4DKzUzlbgumbcIwJDApEWoLMTeST6Fu/8wIbbiqRm/uFhI2IXkOI4pDUwqqKt8eQ\n",
              "tZcYdZqpZ2KgN92ihnZoR5x7xLbuQUR1mOplPv/lf3DFQwlFayaFuuPlZMZd2WvCnHm9q3PadjOb\n",
              "MSDZ+L7zkb+KoGzCacaYTaJQRN4GorrJUANoHUkh/i4Zw7AFhf5clil6c4miUwUnAm5HClmUljkM\n",
              "w/XUEICiXUajnQiJRr9O7vXunogn9VsdfRHnuRIWfs+AAAABG0GaSknhDyZTAhf//oywAhA/2wCY\n",
              "v/BcKfeRj18DzMaxDyoVOYjeRswCcqBOpMvcklZv+WCMbMRFCm0K+WzNV9gNQgl4KkFV2eVQ5sXS\n",
              "ZiChj+/0u/TTd1/rbPVFMEYXM9UevmWZ9EzQuhC/p6IFgmXCoSn9aQd13EcTKv7I8ayawU26JZFZ\n",
              "XCXZUj3M4nqc5f7phLckKgQZiCpEfCY73JS5uqvDPMI4g4irAbadhZUJkvFbQO/+IbKcJpq6gTdq\n",
              "LnDepZNWSmtaA67FyHjs9mlYYoZowFlmSjGEZiol7X5pJBuffsvq5b1ZqyxT4/GG6/36bT+5AOOV\n",
              "a0majoPHs26thtg5uO4FeNJe+SVwLe19uKXPJUBU8vJvfZcAAAC9QZprSeEPJlMCF//+jLACED6A\n",
              "gElB3hM14lwTkUfRUASKErQCHE+WiaMU+GuTtks8sCFAugHlLTT/KD5AZ8uUy+0/+peLBdAgVdeY\n",
              "9nWcESEurfG7EA5gM5fKiyHjyx19VXpJx/alRn/E9QjZQagFzPrX/D0TpDsQMYRv3o1ZE3VHP3LN\n",
              "NysEZU6IMGO/4zbIS6ybiOBjNafIaPxpRn8oBYGP02Mmqg2N/X4UrtfQbb4+DxpwPyDTmn3tWVnA\n",
              "AAABY0GajUnhDyZTBRE8M//+nhACCbOJhGADnpR7YKUa4acpwqrLyjMIKMwxF9T2IVebLJ6UtqKw\n",
              "iRhsYhDwnBAx7pYqlR7FxwQ8fPCGXD6AxW1KCwW5jGXaj4zXPFKnIc98Nfw/oFNOomRjL1bg2XIJ\n",
              "bofKs4vSGGLebwYnFaAnKZHI3/aYSUNO130GJZi/OEhDzBW5S9l2qwBhvUjaygbQj/gxXvIIvH+P\n",
              "Zcf/qrCGh+55MkvUyPGeMLmk2h9GOf2WIK1vpXlrwQ7es2/fuMstgN8X7lCDuGJQfv/c6qFgRl7s\n",
              "ThZsN5jaW+oIEi6IN1LxTETCahCQtHbc1iiLobMYynnvGAk+GNqgM3bsAmsxCkriUeei/PWP9NOF\n",
              "GZ/IQU2Eu7WgOCoaqZJVQs2Wr6LgIMZXLGEMAlWa8j4tPK+4pPWf8jNjlYl1UzNo/bbW4zCi5nUM\n",
              "LxNkpGOKeSEVBFOSb/48eUAAAAANAZ6sakf/AAGN1zwfiQAAAUNBmrFJ4Q8mUwIZ//6eEAILOqkA\n",
              "BXjjQYGwXXaHGFx/dkWZkADJ/iliJU1iczgVGvcdK8rD8R2kLHvJS1al048UapfOT7tIdCRrCpYd\n",
              "6kJrQLHOoqq6MHmmIjMwJ2hQyIY+Ml3FWenyrKlautaPqrIU0hZkLQBsMh9Qez9twGbOArjUJiKV\n",
              "B9bmmZT71jo8ayVrluyZAWqGSICdTH4cTPaUic46X9S7lr0hhKsbN3UO1aPenL748qpp+Oa6u6Qi\n",
              "UwP0e6DrnYrz4AvH0AbvEpgS6za78oJfVpfCh/OvO+vbDmFdHLg+7e4JEe1GQYdxqR9ocRFhmTQM\n",
              "vHv1Vwb1vxlF/v+sBQDmctkNFhqyy5PdvMJcXW4EGY4BMmcaAFzzEuo+ZNFUTv5IM0vsjnuLaEpP\n",
              "df4lYJ3KKo4yjmm5EW6g5piuQQAAABdBns9FETwj/wBa1YQ/GbDc5nH1hcxNewAAAA4Bnu50R/8A\n",
              "AZHCpZU8gwAAAA8BnvBqR/8AAZKT47mFO4AAAAFDQZr1SahBaJlMCF///oywAg+Ty1tWAL8Bt42+\n",
              "vB1OarOp2x+G9w+5vr4YmAZnf9/s73a0Dd60NU2puVMBMpeJ/aClIo1sEn1Eog6rqfHwcS8/Ib0R\n",
              "AMDvSQCiO/y+EHNVQUS1end1NpH4GMFbUVkxR+c5C46YMpsQ+3udFgppOd08JXOjxDw/fyQ2S2Wg\n",
              "LNLeGf3hNAxroVi43+K9OQmrfFaiQ7gFQ6I1VwRqpHa7lcap4TzujJ3VzftzwoWz4Tvu94Oducrs\n",
              "H0jmwvI+eyYJ1DYw+KddS2MB/PcCDlgEr7fADFlyV/Vs9SFNUv2leP0J8e1BMrXu0y3DAQ0KDtwR\n",
              "crJmgjb/AC5CgPa3GgW6xRqfS87c1/8+udtr0DhWo6bLhb8LBF0CcOBeQBNqq/XXlt4gdMwwr1ek\n",
              "yAvvEpc6cseIZbkAAAAYQZ8TRREsI/8AWJWUzZ2adxhFFX7/nSSgAAAADgGfMnRH/wABkcKllTyD\n",
              "AAAADwGfNGpH/wABkpPjuYU7gQAAAJ9BmzlJqEFsmUwIX//+jLACAEazgBrGXtQWpA95wCZFFvE/\n",
              "92pW8fX/QpVewSdeps7ZZG0s6B8F0zPyX8XuP70fs/VCFRJ0749LWvB73bqzOo6IaJV64Tg5YY1E\n",
              "oo7SVA8oOhRV+iSZ9iiVKcEZKZMmcUqflVvF+XCJZYtxtBZ+m1dZIaDfRlbUinxIWd+crfA/3IBp\n",
              "RBtUMKDKnFuBE+gAAAATQZ9XRRUsI/8ABkpkLj1/JYNKaQAAABABn3Z0R/8AAZHE+3Ki6ZwdAAAA\n",
              "EAGfeGpH/wAJ9mux4RJXXwcAAADSQZt9SahBbJlMCF///oywAhA9yABxUhTQvBuT2ts2+4ZeCl8/\n",
              "dSkWcOXI3ZYROelm/q6oPRGWKGsA97wjAjtIR8BY+k1t6OdjNV2dmiSwG4hQGjTa8ZluLeN4igWg\n",
              "Nn+DfIpV/Z2cvNS3vJdDmcxRv58JkzZ0cSYcp0pM1Wxj6WWfjPnQiRwL7GrzhtA+naHpvjk081n/\n",
              "lelHYUtn04AtaE9g5DI9Gr9FXUjw+UT3mI+QMVjV5irBtkEhRV1Oo2x9jgm9pB40h8pu1Rl5VCkW\n",
              "Py9PAAAAE0Gfm0UVLCP/AAZLeBXBKFJqX5wAAAAWAZ+6dEf/AIqxBUELhbTMAqJTgid8WwAAABAB\n",
              "n7xqR/8ACfZrseESV18HAAAAHEGboUmoQWyZTAhP//3xABNl1OCOSGQB36bMl5AAAAATQZ/fRRUs\n",
              "I/8ABkt4FbLgcx1+cAAAABIBn/50R/8BBWIGA7mFtSvmHjEAAAAOAZ/gakf/AAn2awtnDIsAAAAT\n",
              "QZvjSahBbJlMFEx//IQAAAMBswAAAA8BngJqR/8ACfkERfT6sWAAAAc+bW9vdgAAAGxtdmhkAAAA\n",
              "AAAAAAAAAAAAAAAD6AAAB9AAAQAAAQAAAAAAAAAAAAAAAAEAAAAAAAAAAAAAAAAAAAABAAAAAAAA\n",
              "AAAAAAAAAABAAAAAAAAAAAAAAAAAAAAAAAAAAAAAAAAAAAAAAAAAAgAABmh0cmFrAAAAXHRraGQA\n",
              "AAADAAAAAAAAAAAAAAABAAAAAAAAB9AAAAAAAAAAAAAAAAAAAAAAAAEAAAAAAAAAAAAAAAAAAAAB\n",
              "AAAAAAAAAAAAAAAAAABAAAAAAbAAAAEgAAAAAAAkZWR0cwAAABxlbHN0AAAAAAAAAAEAAAfQAAAC\n",
              "AAABAAAAAAXgbWRpYQAAACBtZGhkAAAAAAAAAAAAAAAAAAAyAAAAZABVxAAAAAAALWhkbHIAAAAA\n",
              "AAAAAHZpZGUAAAAAAAAAAAAAAABWaWRlb0hhbmRsZXIAAAAFi21pbmYAAAAUdm1oZAAAAAEAAAAA\n",
              "AAAAAAAAACRkaW5mAAAAHGRyZWYAAAAAAAAAAQAAAAx1cmwgAAAAAQAABUtzdGJsAAAAs3N0c2QA\n",
              "AAAAAAAAAQAAAKNhdmMxAAAAAAAAAAEAAAAAAAAAAAAAAAAAAAAAAbABIABIAAAASAAAAAAAAAAB\n",
              "AAAAAAAAAAAAAAAAAAAAAAAAAAAAAAAAAAAAAAAAAAAAGP//AAAAMWF2Y0MBZAAe/+EAGGdkAB6s\n",
              "2UGwloQAAAMABAAAAwGQPFi2WAEABmjr48siwAAAABx1dWlka2hA8l8kT8W6OaUbzwMj8wAAAAAA\n",
              "AAAYc3R0cwAAAAAAAAABAAAAZAAAAQAAAAAUc3RzcwAAAAAAAAABAAAAAQAAApBjdHRzAAAAAAAA\n",
              "AFAAAAABAAACAAAAAAEAAAMAAAAAAQAAAQAAAAADAAACAAAAAAEAAAMAAAAAAQAAAQAAAAABAAAD\n",
              "AAAAAAEAAAEAAAAAAgAAAgAAAAABAAADAAAAAAEAAAEAAAAAAQAAAwAAAAABAAABAAAAAAEAAAMA\n",
              "AAAAAQAAAQAAAAABAAAEAAAAAAIAAAEAAAAAAQAABQAAAAABAAACAAAAAAEAAAAAAAAAAQAAAQAA\n",
              "AAABAAACAAAAAAEAAAMAAAAAAQAAAQAAAAABAAACAAAAAAEAAAMAAAAAAQAAAQAAAAABAAACAAAA\n",
              "AAEAAAUAAAAAAQAAAgAAAAABAAAAAAAAAAEAAAEAAAAAAQAABAAAAAACAAABAAAAAAEAAAUAAAAA\n",
              "AQAAAgAAAAABAAAAAAAAAAEAAAEAAAAAAQAABQAAAAABAAACAAAAAAEAAAAAAAAAAQAAAQAAAAAB\n",
              "AAAFAAAAAAEAAAIAAAAAAQAAAAAAAAABAAABAAAAAAEAAAUAAAAAAQAAAgAAAAABAAAAAAAAAAEA\n",
              "AAEAAAAAAQAAAgAAAAABAAAFAAAAAAEAAAIAAAAAAQAAAAAAAAABAAABAAAAABAAAAIAAAAAAQAA\n",
              "AwAAAAABAAABAAAAAAEAAAUAAAAAAQAAAgAAAAABAAAAAAAAAAEAAAEAAAAAAQAABQAAAAABAAAC\n",
              "AAAAAAEAAAAAAAAAAQAAAQAAAAABAAAFAAAAAAEAAAIAAAAAAQAAAAAAAAABAAABAAAAAAEAAAUA\n",
              "AAAAAQAAAgAAAAABAAAAAAAAAAEAAAEAAAAAAQAABQAAAAABAAACAAAAAAEAAAAAAAAAAQAAAQAA\n",
              "AAABAAADAAAAAAEAAAEAAAAAHHN0c2MAAAAAAAAAAQAAAAEAAABkAAAAAQAAAaRzdHN6AAAAAAAA\n",
              "AAAAAABkAAAeZQAAAsUAAAENAAABtgAAAcoAAAHcAAAC3gAAAPIAAALWAAAAvwAAAh0AAAIdAAAC\n",
              "vgAAAJ4AAAKLAAAAgwAAAsgAAACQAAAD0AAAANEAAACbAAAEegAAATMAAACeAAAArgAAApkAAANM\n",
              "AAAAkAAAAmoAAAP5AAAAlAAAAsgAAAU5AAAA+gAAAG4AAABLAAAEmAAAAGkAAABHAAAFRAAAAKAA\n",
              "AAA0AAAALAAABKYAAABtAAAAKQAAAB8AAASJAAAAhgAAACAAAAAgAAAD1AAAAJYAAAAZAAAAHQAA\n",
              "AccAAAOiAAAAMgAAABUAAAAdAAAB6gAAAXUAAAHCAAABWQAAAakAAAFHAAABcwAAAU0AAAFIAAAB\n",
              "jgAAAP4AAAFUAAABJQAAARUAAAEfAAAAwQAAAWcAAAARAAABRwAAABsAAAASAAAAEwAAAUcAAAAc\n",
              "AAAAEgAAABMAAACjAAAAFwAAABQAAAAUAAAA1gAAABcAAAAaAAAAFAAAACAAAAAXAAAAFgAAABIA\n",
              "AAAXAAAAEwAAABRzdGNvAAAAAAAAAAEAAAAsAAAAYnVkdGEAAABabWV0YQAAAAAAAAAhaGRscgAA\n",
              "AAAAAAAAbWRpcmFwcGwAAAAAAAAAAAAAAAAtaWxzdAAAACWpdG9vAAAAHWRhdGEAAAABAAAAAExh\n",
              "dmY1Ny44My4xMDA=\n",
              "\">\n",
              "  Your browser does not support the video tag.\n",
              "</video>"
            ],
            "text/plain": [
              "<matplotlib.animation.FuncAnimation at 0x7fd4238bc860>"
            ]
          },
          "metadata": {
            "tags": []
          },
          "execution_count": 48
        }
      ]
    },
    {
      "metadata": {
        "id": "WGOWWsJbjZSH",
        "colab_type": "code",
        "colab": {}
      },
      "cell_type": "code",
      "source": [
        ""
      ],
      "execution_count": 0,
      "outputs": []
    }
  ]
}